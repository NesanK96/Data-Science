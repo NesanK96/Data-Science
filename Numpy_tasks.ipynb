{
  "cells": [
    {
      "cell_type": "markdown",
      "metadata": {
        "id": "view-in-github",
        "colab_type": "text"
      },
      "source": [
        "<a href=\"https://colab.research.google.com/github/NesanK96/Data-Science/blob/main/Numpy_tasks.ipynb\" target=\"_parent\"><img src=\"https://colab.research.google.com/assets/colab-badge.svg\" alt=\"Open In Colab\"/></a>"
      ]
    },
    {
      "cell_type": "markdown",
      "metadata": {
        "id": "wnvbe2ZU041D"
      },
      "source": [
        "# Numpy\n",
        "\n"
      ]
    },
    {
      "cell_type": "markdown",
      "metadata": {
        "id": "MWUNy1mF041F"
      },
      "source": [
        "#### 1. Import the numpy package under the name `np` (★☆☆) \n",
        "(**hint**: import … as …)"
      ]
    },
    {
      "cell_type": "code",
      "execution_count": null,
      "metadata": {
        "collapsed": true,
        "id": "RqngB1GB041G"
      },
      "outputs": [],
      "source": [
        "import numpy as np"
      ]
    },
    {
      "cell_type": "markdown",
      "metadata": {
        "id": "00u0IR3C041G"
      },
      "source": [
        "#### 2. Print the numpy version and the configuration (★☆☆) \n",
        "(**hint**: np.\\_\\_version\\_\\_, np.show\\_config)"
      ]
    },
    {
      "cell_type": "code",
      "execution_count": null,
      "metadata": {
        "colab": {
          "base_uri": "https://localhost:8080/"
        },
        "id": "tPeoQbxo041H",
        "outputId": "b8a0f04e-1636-439c-b97f-969ea1b53fa5"
      },
      "outputs": [
        {
          "output_type": "stream",
          "name": "stdout",
          "text": [
            "1.21.5\n",
            "blas_mkl_info:\n",
            "  NOT AVAILABLE\n",
            "blis_info:\n",
            "  NOT AVAILABLE\n",
            "openblas_info:\n",
            "    libraries = ['openblas', 'openblas']\n",
            "    library_dirs = ['/usr/local/lib']\n",
            "    language = c\n",
            "    define_macros = [('HAVE_CBLAS', None)]\n",
            "    runtime_library_dirs = ['/usr/local/lib']\n",
            "blas_opt_info:\n",
            "    libraries = ['openblas', 'openblas']\n",
            "    library_dirs = ['/usr/local/lib']\n",
            "    language = c\n",
            "    define_macros = [('HAVE_CBLAS', None)]\n",
            "    runtime_library_dirs = ['/usr/local/lib']\n",
            "lapack_mkl_info:\n",
            "  NOT AVAILABLE\n",
            "openblas_lapack_info:\n",
            "    libraries = ['openblas', 'openblas']\n",
            "    library_dirs = ['/usr/local/lib']\n",
            "    language = c\n",
            "    define_macros = [('HAVE_CBLAS', None)]\n",
            "    runtime_library_dirs = ['/usr/local/lib']\n",
            "lapack_opt_info:\n",
            "    libraries = ['openblas', 'openblas']\n",
            "    library_dirs = ['/usr/local/lib']\n",
            "    language = c\n",
            "    define_macros = [('HAVE_CBLAS', None)]\n",
            "    runtime_library_dirs = ['/usr/local/lib']\n",
            "Supported SIMD extensions in this NumPy install:\n",
            "    baseline = SSE,SSE2,SSE3\n",
            "    found = SSSE3,SSE41,POPCNT,SSE42,AVX,F16C,FMA3,AVX2\n",
            "    not found = AVX512F,AVX512CD,AVX512_KNL,AVX512_KNM,AVX512_SKX,AVX512_CLX,AVX512_CNL,AVX512_ICL\n",
            "None\n"
          ]
        }
      ],
      "source": [
        "print(np.__version__)\n",
        "print(np.show_config())"
      ]
    },
    {
      "cell_type": "markdown",
      "metadata": {
        "id": "OGsRR06J041H"
      },
      "source": [
        "#### 3. Create a null vector of size 10 (★☆☆) \n",
        "(**hint**: np.zeros)"
      ]
    },
    {
      "cell_type": "code",
      "execution_count": null,
      "metadata": {
        "colab": {
          "base_uri": "https://localhost:8080/"
        },
        "id": "zGhzT2zb041H",
        "outputId": "3b533eae-2f21-454a-bc68-646857d7549d"
      },
      "outputs": [
        {
          "output_type": "stream",
          "name": "stdout",
          "text": [
            "[0. 0. 0. 0. 0. 0. 0. 0. 0. 0.]\n"
          ]
        }
      ],
      "source": [
        "x = np.zeros(10)\n",
        "\n",
        "print(x)"
      ]
    },
    {
      "cell_type": "code",
      "source": [
        "print(\"Null Vector with Integer elements:\", np.zeros(10, dtype=int))"
      ],
      "metadata": {
        "id": "0GMSTNKRQTxQ"
      },
      "execution_count": null,
      "outputs": []
    },
    {
      "cell_type": "markdown",
      "metadata": {
        "id": "agcuHwTO041I"
      },
      "source": [
        "#### 4.  How to find the memory size of any array (★☆☆) \n",
        "(**hint**: size, itemsize)"
      ]
    },
    {
      "cell_type": "code",
      "execution_count": null,
      "metadata": {
        "colab": {
          "base_uri": "https://localhost:8080/"
        },
        "id": "4PBQfUgm041I",
        "outputId": "414cfaef-3697-47bb-8024-09e29d978f6e"
      },
      "outputs": [
        {
          "output_type": "stream",
          "name": "stdout",
          "text": [
            "Array 'A':\n",
            "Size of the array:  3\n",
            "Memory of one array element:  8\n",
            "Total memory consumed by the array:  24\n",
            "Total memory consumed by the array using 'nbytes' method:  24\n",
            "\n",
            "Array 'B': \n",
            "Size of the array:  6\n",
            "Memory of one array element:  8\n",
            "Total memory consumed by the array:  48\n"
          ]
        }
      ],
      "source": [
        "import numpy as np\n",
        "\n",
        "# x = np.zeros(10)\n",
        "\n",
        "# print(x.size)\n",
        "# print(x.itemsize)\n",
        "\n",
        "A = np.array([10, 25.0, -100])\n",
        "print(\"Array 'A':\")\n",
        "print(\"Size of the array: \", A.size)\n",
        "print(\"Memory of one array element: \", A.itemsize)\n",
        "\n",
        "print(\"Total memory consumed by the array: \", A.size*A.itemsize)\n",
        "\n",
        "print(\"Total memory consumed by the array using 'nbytes' method: \", A.nbytes)\n",
        "\n",
        "# A.size*A.itemsize == A.nbytes\n",
        "\n",
        "B = np.array([[10, 25.05, -100], [-3467, -6669, 10.2756]])\n",
        "print('\\nArray \\'B\\': ')\n",
        "print(\"Size of the array: \", B.size)\n",
        "print(\"Memory of one array element: \", B.itemsize)\n",
        "\n",
        "print(\"Total memory consumed by the array: \", B.size*B.itemsize)"
      ]
    },
    {
      "cell_type": "markdown",
      "metadata": {
        "id": "sJ6WTKyv041I"
      },
      "source": [
        "#### 5.  How to get the documentation of the numpy add function from the command line? (★☆☆) \n",
        "(**hint**: np.info)"
      ]
    },
    {
      "cell_type": "code",
      "execution_count": 30,
      "metadata": {
        "collapsed": true,
        "id": "iyG21mKq041I",
        "colab": {
          "base_uri": "https://localhost:8080/"
        },
        "outputId": "6b43cfae-e0cd-46f8-910f-6408683aeb82"
      },
      "outputs": [
        {
          "output_type": "stream",
          "name": "stderr",
          "text": [
            "ERROR:root:File `'python.py'` not found.\n"
          ]
        }
      ],
      "source": [
        "%run python -c \"import numpy; numpy.info(numpy.add)\""
      ]
    },
    {
      "cell_type": "markdown",
      "metadata": {
        "id": "75iv7fjg041J"
      },
      "source": [
        "#### 6.  Create a null vector of size 10 but the fifth value which is 1 (★☆☆) \n",
        "(**hint**: array\\[4\\])"
      ]
    },
    {
      "cell_type": "code",
      "execution_count": null,
      "metadata": {
        "colab": {
          "base_uri": "https://localhost:8080/"
        },
        "id": "DLs4sl5N041J",
        "outputId": "b4573492-0e26-4f49-be49-931b167bbb17"
      },
      "outputs": [
        {
          "output_type": "stream",
          "name": "stdout",
          "text": [
            "Null vector of size '10':  [0. 0. 0. 0. 0. 0. 0. 0. 0. 0.]\n",
            "After x[4] = 1, the vector becomes:  [0. 0. 0. 0. 1. 0. 0. 0. 0. 0.]\n"
          ]
        }
      ],
      "source": [
        "import numpy as np\n",
        "\n",
        "x = np.zeros(10)\n",
        "\n",
        "print(\"Null vector of size '10': \",x)\n",
        "\n",
        "x[4] = 1\n",
        "\n",
        "print(\"After x[4] = 1, the vector becomes: \", x)"
      ]
    },
    {
      "cell_type": "markdown",
      "metadata": {
        "id": "YIJN3vlY041J"
      },
      "source": [
        "#### 7.  Create a vector with values ranging from 10 to 49 (★☆☆) \n",
        "(**hint**: np.arange)"
      ]
    },
    {
      "cell_type": "code",
      "execution_count": null,
      "metadata": {
        "colab": {
          "base_uri": "https://localhost:8080/"
        },
        "id": "QFUqWX6M041J",
        "outputId": "2a0fa86b-c18a-4937-d522-8dc1c20985bc"
      },
      "outputs": [
        {
          "output_type": "stream",
          "name": "stdout",
          "text": [
            "[0 1 2 3 4 5 6 7 8 9]\n",
            "\n",
            "Result:\n",
            " [10 11 12 13 14 15 16 17 18 19 20 21 22 23 24 25 26 27 28 29 30 31 32 33\n",
            " 34 35 36 37 38 39 40 41 42 43 44 45 46 47 48 49]\n"
          ]
        }
      ],
      "source": [
        "import numpy as np\n",
        "\n",
        "v = np.arange(10)\n",
        "print(v)\n",
        "\n",
        "v = np.arange(10,50)\n",
        "print(\"\\nResult:\\n\",v)"
      ]
    },
    {
      "cell_type": "markdown",
      "metadata": {
        "id": "CftyIz3E041K"
      },
      "source": [
        "#### 8.  Reverse a vector (first element becomes last) (★☆☆) \n",
        "(**hint**: array\\[::-1\\])"
      ]
    },
    {
      "cell_type": "code",
      "execution_count": null,
      "metadata": {
        "colab": {
          "base_uri": "https://localhost:8080/"
        },
        "id": "xxmEAKx4041K",
        "outputId": "c61d6295-fdc0-403d-eea3-7686288be89a"
      },
      "outputs": [
        {
          "output_type": "stream",
          "name": "stdout",
          "text": [
            "Array: [0 1 2 3 4 5 6 7 8 9]\n",
            "\n",
            "Reversed Array: [9 8 7 6 5 4 3 2 1 0]\n"
          ]
        }
      ],
      "source": [
        "x = np.arange(10)\n",
        "\n",
        "print(\"Array:\", x)\n",
        "\n",
        "x = x[::-1]\n",
        "\n",
        "print(\"\\nReversed Array:\", x)"
      ]
    },
    {
      "cell_type": "markdown",
      "metadata": {
        "id": "YbhQogPq041K"
      },
      "source": [
        "#### 9.  Create a 3x3 matrix with values ranging from 0 to 8 (★☆☆) \n",
        "(**hint**: reshape)"
      ]
    },
    {
      "cell_type": "code",
      "execution_count": null,
      "metadata": {
        "colab": {
          "base_uri": "https://localhost:8080/"
        },
        "id": "dBJjXBDg041K",
        "outputId": "90f6ea7b-9da7-4c1a-d290-189f147a8939"
      },
      "outputs": [
        {
          "output_type": "stream",
          "name": "stdout",
          "text": [
            "[0 1 2 3 4 5 6 7 8]\n",
            "\n",
            "3x3 Matrix:\n",
            " [[0 1 2]\n",
            " [3 4 5]\n",
            " [6 7 8]]\n"
          ]
        }
      ],
      "source": [
        "x = np.arange(9)\n",
        "\n",
        "print(x)\n",
        "\n",
        "z = x.reshape(3,3) # z = np.arange(9).reshape(3,3)\n",
        "\n",
        "print(\"\\n3x3 Matrix:\\n\",z)"
      ]
    },
    {
      "cell_type": "code",
      "source": [
        "# B = np.array([[10, 25.05, -100], [-3467, -6669, 10.2756]])\n",
        "\n",
        "# print(B)\n",
        "\n",
        "# b = np.array([10, 25.05, -100, 3467, -6669, 10.2756]).reshape(2,3)\n",
        "\n",
        "# print(\"\\n\",b)"
      ],
      "metadata": {
        "id": "vKxqfTg5Rirm"
      },
      "execution_count": null,
      "outputs": []
    },
    {
      "cell_type": "markdown",
      "metadata": {
        "id": "vhTxDUx-041K"
      },
      "source": [
        "#### 10. Find indices of non-zero elements from \\[1,2,0,0,4,0\\] (★☆☆) \n",
        "(**hint**: np.nonzero)"
      ]
    },
    {
      "cell_type": "code",
      "execution_count": null,
      "metadata": {
        "colab": {
          "base_uri": "https://localhost:8080/"
        },
        "id": "yQiQWWoI041L",
        "outputId": "a36103f2-0849-4062-b8bd-54cf162e3dcd"
      },
      "outputs": [
        {
          "output_type": "execute_result",
          "data": {
            "text/plain": [
              "(array([0, 1, 4]),)"
            ]
          },
          "metadata": {},
          "execution_count": 12
        }
      ],
      "source": [
        "x = np.array([1,2,0,0,4,0])\n",
        "\n",
        "np.nonzero(x)"
      ]
    },
    {
      "cell_type": "markdown",
      "metadata": {
        "id": "Nd152Vu1041L"
      },
      "source": [
        "#### 11. Create a 3x3 identity matrix (★☆☆) \n",
        "(**hint**: np.eye)"
      ]
    },
    {
      "cell_type": "code",
      "execution_count": null,
      "metadata": {
        "colab": {
          "base_uri": "https://localhost:8080/"
        },
        "id": "reoYDJEs041L",
        "outputId": "485965f4-2b4b-4b5b-ce1e-417cbb211ce3"
      },
      "outputs": [
        {
          "output_type": "stream",
          "name": "stdout",
          "text": [
            "[[1. 0. 0.]\n",
            " [0. 1. 0.]\n",
            " [0. 0. 1.]]\n"
          ]
        }
      ],
      "source": [
        "x = np.eye(3, 3) # (N,M-optional, dtype - optional)\n",
        "\n",
        "print(x)"
      ]
    },
    {
      "cell_type": "code",
      "source": [
        "x = np.eye(3, dtype = int) # (N,M-optional, dtype - optional) - N -rows, M -columns(optional)\n",
        "\n",
        "print(x)"
      ],
      "metadata": {
        "colab": {
          "base_uri": "https://localhost:8080/"
        },
        "id": "5h8lQeDCJDd9",
        "outputId": "11fd0125-8a13-465a-b02b-5f56f0d846d7"
      },
      "execution_count": null,
      "outputs": [
        {
          "output_type": "stream",
          "name": "stdout",
          "text": [
            "[[1 0 0]\n",
            " [0 1 0]\n",
            " [0 0 1]]\n"
          ]
        }
      ]
    },
    {
      "cell_type": "markdown",
      "metadata": {
        "id": "t3HltW5t041L"
      },
      "source": [
        "#### 12. Create a 3x3x3 array with random values (★☆☆) \n",
        "(**hint**: np.random.random)"
      ]
    },
    {
      "cell_type": "code",
      "execution_count": null,
      "metadata": {
        "collapsed": true,
        "id": "52bNys9w041L"
      },
      "outputs": [],
      "source": [
        "x = np.random.random(3,3,3)"
      ]
    },
    {
      "cell_type": "code",
      "source": [
        "x = np.random.random((3,3,3))\n",
        "\n",
        "# evertime the value assigned randomly\n",
        "\n",
        "print(x)"
      ],
      "metadata": {
        "colab": {
          "base_uri": "https://localhost:8080/"
        },
        "id": "8KzEO3Q-Atdk",
        "outputId": "119542b7-3cff-4f72-8506-f56e23a99aa4"
      },
      "execution_count": null,
      "outputs": [
        {
          "output_type": "stream",
          "name": "stdout",
          "text": [
            "[[[0.05165727 0.87196552 0.8038275 ]\n",
            "  [0.88914811 0.91589797 0.49244595]\n",
            "  [0.90700371 0.28657509 0.95412943]]\n",
            "\n",
            " [[0.4306916  0.56164843 0.92243825]\n",
            "  [0.30655954 0.19760329 0.55186246]\n",
            "  [0.83701223 0.89399098 0.93242637]]\n",
            "\n",
            " [[0.7573045  0.80889706 0.86564827]\n",
            "  [0.0888287  0.79185047 0.90196651]\n",
            "  [0.14767948 0.21452633 0.28468323]]]\n"
          ]
        }
      ]
    },
    {
      "cell_type": "markdown",
      "metadata": {
        "id": "VnltLG_J041L"
      },
      "source": [
        "#### 13. Create a 10x10 array with random values and find the minimum and maximum values (★☆☆) \n",
        "(**hint**: min, max)"
      ]
    },
    {
      "cell_type": "code",
      "execution_count": null,
      "metadata": {
        "colab": {
          "base_uri": "https://localhost:8080/"
        },
        "id": "8wat-kxy041M",
        "outputId": "ed1e5c83-0d29-40a7-c7f2-65c27a800275"
      },
      "outputs": [
        {
          "output_type": "stream",
          "name": "stdout",
          "text": [
            "min: 0.0019158789508614271\n",
            "max: 0.9992880967026289\n"
          ]
        }
      ],
      "source": [
        "z = np.random.random((10,10,10))\n",
        "\n",
        "# print(z)\n",
        "\n",
        "print(\"min:\", z.min())\n",
        "print('max:', z.max())"
      ]
    },
    {
      "cell_type": "markdown",
      "metadata": {
        "id": "EXY4HHtq041M"
      },
      "source": [
        "#### 14. Create a random vector of size 30 and find the mean value (★☆☆) \n",
        "(**hint**: mean)"
      ]
    },
    {
      "cell_type": "code",
      "execution_count": null,
      "metadata": {
        "colab": {
          "base_uri": "https://localhost:8080/"
        },
        "id": "XeZPzzKC041M",
        "outputId": "f2b513ba-7e7f-42ac-fcbe-887826b4a55d"
      },
      "outputs": [
        {
          "output_type": "stream",
          "name": "stdout",
          "text": [
            "z:\n",
            " [0.02555271 0.56272714 0.17376545 0.2463388  0.94725899 0.55051179\n",
            " 0.94056504 0.86805157 0.25821676 0.51552506 0.4024415  0.69957453\n",
            " 0.27951099 0.48779472 0.07084657 0.99640819 0.15293383 0.11462942\n",
            " 0.85880764 0.59583737 0.8555238  0.63578407 0.60094106 0.55836181\n",
            " 0.67912379 0.70667099 0.06846539 0.46683168 0.64487444 0.58259616]\n",
            "\n",
            "z mean: 0.5182157093996665\n"
          ]
        }
      ],
      "source": [
        "z = np.random.random(30)\n",
        "\n",
        "print(\"z:\\n\",z)\n",
        "\n",
        "print(\"\\nz mean:\",z.mean())"
      ]
    },
    {
      "cell_type": "markdown",
      "metadata": {
        "id": "47ioc81E041M"
      },
      "source": [
        "#### 15. Create a 2d array with 1 on the border and 0 inside (★☆☆) \n",
        "(**hint**: array\\[1:-1, 1:-1\\])"
      ]
    },
    {
      "cell_type": "code",
      "execution_count": null,
      "metadata": {
        "colab": {
          "base_uri": "https://localhost:8080/"
        },
        "id": "HMLSXz6R041M",
        "outputId": "c4dba0b1-847e-45a4-dee8-eb94779f4534"
      },
      "outputs": [
        {
          "output_type": "stream",
          "name": "stdout",
          "text": [
            "Original:\n",
            " [[1 1 1 1 1]\n",
            " [1 1 1 1 1]\n",
            " [1 1 1 1 1]\n",
            " [1 1 1 1 1]\n",
            " [1 1 1 1 1]]\n"
          ]
        }
      ],
      "source": [
        "x = np.ones((5,5), dtype=int)  # ones(shape = (x,y) or x, dtype - optional)\n",
        "\n",
        "print(\"Original:\\n\", x)"
      ]
    },
    {
      "cell_type": "code",
      "source": [
        "x[1:-1,1:-1] = 0               # x[row,column]\n",
        "print(\"Output:\", \"\\n\", x)"
      ],
      "metadata": {
        "colab": {
          "base_uri": "https://localhost:8080/"
        },
        "id": "VG0IenHuLjny",
        "outputId": "4c1eb9f6-b11d-4e5a-9c5d-2363a2419cfa"
      },
      "execution_count": null,
      "outputs": [
        {
          "output_type": "stream",
          "name": "stdout",
          "text": [
            "Output: \n",
            " [[1 1 1 1 1]\n",
            " [1 0 0 0 1]\n",
            " [1 0 0 0 1]\n",
            " [1 0 0 0 1]\n",
            " [1 1 1 1 1]]\n"
          ]
        }
      ]
    },
    {
      "cell_type": "markdown",
      "metadata": {
        "id": "RYSZikjk041M"
      },
      "source": [
        "#### 16. How to add a border (filled with 0's) around an existing array? (★☆☆) \n",
        "(**hint**: np.pad)"
      ]
    },
    {
      "cell_type": "code",
      "execution_count": null,
      "metadata": {
        "colab": {
          "base_uri": "https://localhost:8080/"
        },
        "id": "iWU_AZbp041M",
        "outputId": "1bc01199-8f4f-482d-9146-6970295e3ba3"
      },
      "outputs": [
        {
          "output_type": "stream",
          "name": "stdout",
          "text": [
            "[[1 2 3]\n",
            " [4 5 6]\n",
            " [7 8 9]]\n",
            "\n",
            " [1 2 3 4 5 6 7 8 9]\n"
          ]
        }
      ],
      "source": [
        "# Original\n",
        "\n",
        "x = np.arange(1,10).reshape(3,3)\n",
        "\n",
        "y = np.arange(1,10)\n",
        "\n",
        "print(x)\n",
        "print(\"\\n\",y)"
      ]
    },
    {
      "cell_type": "code",
      "source": [
        "# pad(array, pad_width, mode, [constant_values (default:0)] when mode 'constant]\n",
        "\n",
        "z = np.pad(x, pad_width=1, mode='constant') # modes - constant, edge, maximum, minimum, mean, median\n",
        "\n",
        "Z = np.pad(y, pad_width=5, mode='constant')\n",
        "\n",
        "print(\"x pad:\\n\", z)\n",
        "\n",
        "print(\"\\ny pad:\", Z)\n"
      ],
      "metadata": {
        "colab": {
          "base_uri": "https://localhost:8080/"
        },
        "id": "fBCzgDYEQNaN",
        "outputId": "2f609772-6934-44b5-87b8-e7b23fa39a7a"
      },
      "execution_count": null,
      "outputs": [
        {
          "output_type": "stream",
          "name": "stdout",
          "text": [
            "x pad:\n",
            " [[0 0 0 0 0]\n",
            " [0 1 2 3 0]\n",
            " [0 4 5 6 0]\n",
            " [0 7 8 9 0]\n",
            " [0 0 0 0 0]]\n",
            "\n",
            "y pad: [0 0 0 0 0 1 2 3 4 5 6 7 8 9 0 0 0 0 0]\n"
          ]
        }
      ]
    },
    {
      "cell_type": "markdown",
      "metadata": {
        "id": "PpuMfFoe041M"
      },
      "source": [
        "#### 17. What is the result of the following expression? (★☆☆) \n",
        "(**hint**: NaN = not a number, inf = infinity)"
      ]
    },
    {
      "cell_type": "markdown",
      "metadata": {
        "id": "p0fUWOmh041M"
      },
      "source": [
        "```python\n",
        "0 * np.nan\n",
        "np.nan == np.nan\n",
        "np.inf > np.nan\n",
        "np.nan - np.nan\n",
        "0.3 == 3 * 0.1\n",
        "```"
      ]
    },
    {
      "cell_type": "code",
      "execution_count": null,
      "metadata": {
        "id": "5VNgZuW7041M",
        "colab": {
          "base_uri": "https://localhost:8080/"
        },
        "outputId": "4e4d7845-2e6c-4968-f76a-9f2eb519c297"
      },
      "outputs": [
        {
          "output_type": "stream",
          "name": "stdout",
          "text": [
            "nan\n"
          ]
        }
      ],
      "source": [
        "print(0 * np.nan)"
      ]
    },
    {
      "cell_type": "code",
      "source": [
        "np.nan == np.nan"
      ],
      "metadata": {
        "colab": {
          "base_uri": "https://localhost:8080/"
        },
        "id": "Etf80C1_WBV5",
        "outputId": "e44086c2-c4ed-4117-da25-ed4f69d5492e"
      },
      "execution_count": null,
      "outputs": [
        {
          "output_type": "execute_result",
          "data": {
            "text/plain": [
              "False"
            ]
          },
          "metadata": {},
          "execution_count": 26
        }
      ]
    },
    {
      "cell_type": "code",
      "source": [
        "np.inf > np.nan"
      ],
      "metadata": {
        "colab": {
          "base_uri": "https://localhost:8080/"
        },
        "id": "0RUE0aItWE1N",
        "outputId": "c89f7e63-3f70-4d7d-bbbc-ea6f7e3ae60f"
      },
      "execution_count": null,
      "outputs": [
        {
          "output_type": "execute_result",
          "data": {
            "text/plain": [
              "False"
            ]
          },
          "metadata": {},
          "execution_count": 27
        }
      ]
    },
    {
      "cell_type": "code",
      "source": [
        "print(np.nan - np.nan)"
      ],
      "metadata": {
        "colab": {
          "base_uri": "https://localhost:8080/"
        },
        "id": "PCfbHJJFWLME",
        "outputId": "d74f2a22-b96c-4b2e-abe1-b13b83171fa5"
      },
      "execution_count": null,
      "outputs": [
        {
          "output_type": "stream",
          "name": "stdout",
          "text": [
            "nan\n"
          ]
        }
      ]
    },
    {
      "cell_type": "code",
      "source": [
        "print(3*0.1,\"\\n\") # to check, why false?\n",
        "\n",
        "0.3 == 3 * 0.1 "
      ],
      "metadata": {
        "colab": {
          "base_uri": "https://localhost:8080/"
        },
        "id": "X_Be-YafWOD2",
        "outputId": "6bc0a9c4-2433-40b7-9b75-72e5f8121903"
      },
      "execution_count": null,
      "outputs": [
        {
          "output_type": "stream",
          "name": "stdout",
          "text": [
            "0.30000000000000004 \n",
            "\n"
          ]
        },
        {
          "output_type": "execute_result",
          "data": {
            "text/plain": [
              "False"
            ]
          },
          "metadata": {},
          "execution_count": 31
        }
      ]
    },
    {
      "cell_type": "markdown",
      "metadata": {
        "id": "7_lIfkoC041N"
      },
      "source": [
        "#### 18. Create a 5x5 matrix with values 1,2,3,4 just below the diagonal (★☆☆) \n",
        "(**hint**: np.diag)"
      ]
    },
    {
      "cell_type": "code",
      "execution_count": null,
      "metadata": {
        "id": "7-e2U6Dz041N",
        "colab": {
          "base_uri": "https://localhost:8080/"
        },
        "outputId": "ec5e7377-1a62-48cb-e36e-9340b5b13f83"
      },
      "outputs": [
        {
          "output_type": "stream",
          "name": "stdout",
          "text": [
            "Main Diagonal:\n",
            " [[1 0 0 0 0]\n",
            " [0 2 0 0 0]\n",
            " [0 0 3 0 0]\n",
            " [0 0 0 4 0]\n",
            " [0 0 0 0 5]]\n"
          ]
        }
      ],
      "source": [
        "a = np.arange(1,6)\n",
        "\n",
        "print(\"Main Diagonal:\\n\",np.diag(a))\n",
        "\n",
        "# a = np.diag([1,2,3,4,5])\n",
        "# print(a)"
      ]
    },
    {
      "cell_type": "markdown",
      "metadata": {
        "id": "1AYmhHzx041N"
      },
      "source": [
        "#### 19. Create a 8x8 matrix and fill it with a checkerboard pattern (★☆☆) \n",
        "(**hint**: array\\[::2\\])"
      ]
    },
    {
      "cell_type": "code",
      "execution_count": null,
      "metadata": {
        "id": "Id_1EdTC041N",
        "colab": {
          "base_uri": "https://localhost:8080/"
        },
        "outputId": "a4de968b-2e12-4848-ab8e-47a7bf36ec24"
      },
      "outputs": [
        {
          "output_type": "stream",
          "name": "stdout",
          "text": [
            "[[1 1 1 1 1 1 1 1]\n",
            " [1 1 1 1 1 1 1 1]\n",
            " [1 1 1 1 1 1 1 1]\n",
            " [1 1 1 1 1 1 1 1]\n",
            " [1 1 1 1 1 1 1 1]\n",
            " [1 1 1 1 1 1 1 1]\n",
            " [1 1 1 1 1 1 1 1]\n",
            " [1 1 1 1 1 1 1 1]]\n"
          ]
        }
      ],
      "source": [
        "# x = np.zeros((8,8), dtype = int)\n",
        "\n",
        "x = np.ones((8,8), dtype = int)\n",
        "\n",
        "print(x)"
      ]
    },
    {
      "cell_type": "code",
      "source": [
        "# x[::2, 1::2] = 0  # x[row, column] ----> when np.zeros used\n",
        "# x[1::2, ::2] = 0\n",
        "\n",
        "x[::2, ::2] = 0     # x[row, column]\n",
        "x[1::2, 1::2] = 0\n",
        "print(\"Check board pattern:\\n\",x)"
      ],
      "metadata": {
        "colab": {
          "base_uri": "https://localhost:8080/"
        },
        "id": "O1TZYiiZYjkZ",
        "outputId": "c3d6c9f5-61d2-46ee-a5b5-d75dc75fc405"
      },
      "execution_count": null,
      "outputs": [
        {
          "output_type": "stream",
          "name": "stdout",
          "text": [
            "Check board pattern:\n",
            " [[0 1 0 1 0 1 0 1]\n",
            " [1 0 1 0 1 0 1 0]\n",
            " [0 1 0 1 0 1 0 1]\n",
            " [1 0 1 0 1 0 1 0]\n",
            " [0 1 0 1 0 1 0 1]\n",
            " [1 0 1 0 1 0 1 0]\n",
            " [0 1 0 1 0 1 0 1]\n",
            " [1 0 1 0 1 0 1 0]]\n"
          ]
        }
      ]
    },
    {
      "cell_type": "markdown",
      "metadata": {
        "id": "tTV60Nof041N"
      },
      "source": [
        "#### 20. Consider a (6,7,8) shape array, what is the index (x,y,z) of the 100th element? \n",
        "(**hint**: np.unravel_index)"
      ]
    },
    {
      "cell_type": "code",
      "execution_count": null,
      "metadata": {
        "id": "JvEhKrHl041N",
        "colab": {
          "base_uri": "https://localhost:8080/"
        },
        "outputId": "6b0d270a-7037-44ee-a849-d5231032263e"
      },
      "outputs": [
        {
          "output_type": "stream",
          "name": "stdout",
          "text": [
            "unravel_index:\n",
            " (1, 5, 3)\n"
          ]
        }
      ],
      "source": [
        "# a = np.arange(6*7*8).reshape(6,7,8)\n",
        "# print(a)\n",
        "# print(\"unravel_index:\\n\",np.unravel_index(99, a))\n",
        "\n",
        "print(\"unravel_index:\\n\",np.unravel_index(99, (6,7,8)))"
      ]
    },
    {
      "cell_type": "markdown",
      "metadata": {
        "id": "H5plS0La041N"
      },
      "source": [
        "#### 21. Create a checkerboard 8x8 matrix using the tile function (★☆☆) \n",
        "(**hint**: np.tile)"
      ]
    },
    {
      "cell_type": "code",
      "execution_count": null,
      "metadata": {
        "id": "BZs-vdh9041N",
        "colab": {
          "base_uri": "https://localhost:8080/"
        },
        "outputId": "aa4a04dd-9dd6-4b42-b386-a18ff9d31437"
      },
      "outputs": [
        {
          "output_type": "stream",
          "name": "stdout",
          "text": [
            "[[0 1 0 1 0 1 0 1]\n",
            " [1 0 1 0 1 0 1 0]\n",
            " [0 1 0 1 0 1 0 1]\n",
            " [1 0 1 0 1 0 1 0]\n",
            " [0 1 0 1 0 1 0 1]\n",
            " [1 0 1 0 1 0 1 0]\n",
            " [0 1 0 1 0 1 0 1]\n",
            " [1 0 1 0 1 0 1 0]]\n"
          ]
        }
      ],
      "source": [
        "a = np.arange(2)\n",
        "b = a[::-1]\n",
        "\n",
        "print(np.tile((a, b), (4,4))) # np.tile(array, repetitions)"
      ]
    },
    {
      "cell_type": "markdown",
      "metadata": {
        "id": "fKhA8BHJ041N"
      },
      "source": [
        "#### 22. Normalize a 5x5 random matrix (★☆☆) \n",
        "(**hint**: (x - min) / (max - min))"
      ]
    },
    {
      "cell_type": "code",
      "execution_count": null,
      "metadata": {
        "id": "zRCEIcUy041O",
        "colab": {
          "base_uri": "https://localhost:8080/"
        },
        "outputId": "7dea7ade-2789-4bb0-d9e2-85d9414d5830"
      },
      "outputs": [
        {
          "output_type": "stream",
          "name": "stdout",
          "text": [
            "Original matrix:\ta:\n",
            "\n",
            " [[0.84397367 0.21449694 0.42234749 0.30674621 0.39510879]\n",
            " [0.58780185 0.97302446 0.93863168 0.11867336 0.22091595]\n",
            " [0.83296616 0.03718005 0.7492118  0.97858166 0.7239764 ]\n",
            " [0.82938294 0.24573326 0.54948441 0.2267955  0.31325518]\n",
            " [0.02073392 0.65261676 0.84924573 0.2709308  0.81854939]]\n",
            "\n",
            "Normalized matrix:\ta=(a-min)/(max-min)\n",
            "\n",
            " [[0.85946828 0.20229    0.41928748 0.29859891 0.39085009]\n",
            " [0.59202304 0.99419825 0.95829193 0.10224949 0.2089915 ]\n",
            " [0.84797636 0.01716988 0.76053619 1.         0.73419026]\n",
            " [0.84423545 0.23490095 0.55201935 0.21512979 0.30539433]\n",
            " [0.         0.65969028 0.86497235 0.26120737 0.83292515]]\n"
          ]
        }
      ],
      "source": [
        "a = np.random.random((5,5))\n",
        "\n",
        "print(\"Original matrix:\\ta:\\n\\n\",a)\n",
        "\n",
        "Min = a.min()\n",
        "Max = a.max()\n",
        "\n",
        "a = (a-Min)/(Max-Min)\n",
        "print(\"\\nNormalized matrix:\\ta=(a-min)/(max-min)\\n\\n\", a)"
      ]
    },
    {
      "cell_type": "markdown",
      "metadata": {
        "id": "gkqcXJxc041O"
      },
      "source": [
        "#### 23. Create a custom dtype that describes a color as four unsigned bytes (RGBA) (★☆☆) \n",
        "(**hint**: np.dtype)"
      ]
    },
    {
      "cell_type": "code",
      "execution_count": null,
      "metadata": {
        "collapsed": true,
        "id": "vLqZrkBE041O",
        "colab": {
          "base_uri": "https://localhost:8080/"
        },
        "outputId": "964dbe4e-ac11-437b-abe5-1de096465130"
      },
      "outputs": [
        {
          "output_type": "stream",
          "name": "stdout",
          "text": [
            "[('r', 'u1'), ('g', 'u1'), ('b', 'u1'), ('a', 'u1')]\n"
          ]
        }
      ],
      "source": [
        "color = np.dtype([(\"r\", np.ubyte),\n",
        "                  (\"g\", np.ubyte),\n",
        "                  (\"b\", np.ubyte),\n",
        "                  (\"a\", np.ubyte)])\n",
        "\n",
        "print(color)"
      ]
    },
    {
      "cell_type": "markdown",
      "metadata": {
        "id": "2xbtQAFN041O"
      },
      "source": [
        "#### 24. Multiply a 5x3 matrix by a 3x2 matrix (real matrix product) (★☆☆) \n",
        "(**hint**: np.dot | @)"
      ]
    },
    {
      "cell_type": "code",
      "execution_count": null,
      "metadata": {
        "id": "k60W4b9s041O",
        "colab": {
          "base_uri": "https://localhost:8080/"
        },
        "outputId": "7ce427ae-a461-4a73-f674-d63e6c2370cf"
      },
      "outputs": [
        {
          "output_type": "stream",
          "name": "stdout",
          "text": [
            "a:\n",
            " [[ 0  1  2]\n",
            " [ 3  4  5]\n",
            " [ 6  7  8]\n",
            " [ 9 10 11]\n",
            " [12 13 14]]\n",
            "b:\n",
            " [[0 1]\n",
            " [2 3]\n",
            " [4 5]]\n",
            "x:\n",
            " [[ 10  13]\n",
            " [ 28  40]\n",
            " [ 46  67]\n",
            " [ 64  94]\n",
            " [ 82 121]]\n"
          ]
        }
      ],
      "source": [
        "a = np.arange(5*3).reshape(5,3)\n",
        "b = np.arange(3*2).reshape(3,2)\n",
        "\n",
        "x = np.dot(a,b)\n",
        "\n",
        "print(\"a:\\n\",a)\n",
        "print(\"b:\\n\",b)\n",
        "print(\"x:\\n\",x)"
      ]
    },
    {
      "cell_type": "code",
      "source": [
        "a = np.arange(5*3).reshape(5,3)\n",
        "b = np.arange(3*2).reshape(3,2)\n",
        "\n",
        "z = a@b #alternate - @ for np.dot()\n",
        "\n",
        "print(\"a:\\n\",a)\n",
        "print(\"b:\\n\",b)\n",
        "print(\"x:\\n\",x)"
      ],
      "metadata": {
        "colab": {
          "base_uri": "https://localhost:8080/"
        },
        "id": "S4XENZFYj5IL",
        "outputId": "1844e58c-1c7f-46c0-fbfb-0c67bf198025"
      },
      "execution_count": null,
      "outputs": [
        {
          "output_type": "stream",
          "name": "stdout",
          "text": [
            "a:\n",
            " [[ 0  1  2]\n",
            " [ 3  4  5]\n",
            " [ 6  7  8]\n",
            " [ 9 10 11]\n",
            " [12 13 14]]\n",
            "b:\n",
            " [[0 1]\n",
            " [2 3]\n",
            " [4 5]]\n",
            "x:\n",
            " [[ 10  13]\n",
            " [ 28  40]\n",
            " [ 46  67]\n",
            " [ 64  94]\n",
            " [ 82 121]]\n"
          ]
        }
      ]
    },
    {
      "cell_type": "markdown",
      "metadata": {
        "id": "pVdT6mYw041O"
      },
      "source": [
        "#### 25. Given a 1D array, negate all elements which are between 3 and 8, in place. (★☆☆) \n",
        "(**hint**: >, <=)"
      ]
    },
    {
      "cell_type": "code",
      "execution_count": null,
      "metadata": {
        "id": "poIjkmFR041O",
        "colab": {
          "base_uri": "https://localhost:8080/"
        },
        "outputId": "810766d0-9b6d-4d51-f7a2-035cc11c6228"
      },
      "outputs": [
        {
          "output_type": "stream",
          "name": "stdout",
          "text": [
            "'0' based indexing:\n",
            "\n",
            "[ 1  2  3  4 -5 -6 -7 -8  9 10 11]\n"
          ]
        }
      ],
      "source": [
        "z = np.arange(1,12)\n",
        "\n",
        "z[(4<z) & (z<9)] *= -1 #between z[3]:z[8]\n",
        "\n",
        "print(\"'0' based indexing:\\n\")\n",
        "print(z)\n",
        "\n",
        "\n",
        "\n",
        "# y = np.arange(1,12)\n",
        "# y[4:8:] *= -1\n",
        "# print(y)"
      ]
    },
    {
      "cell_type": "markdown",
      "metadata": {
        "id": "BBHnG5XQ041O"
      },
      "source": [
        "#### 26. What is the output of the following script? (★☆☆) \n",
        "(**hint**: np.sum)"
      ]
    },
    {
      "cell_type": "markdown",
      "metadata": {
        "id": "XMOXfRcR041O"
      },
      "source": [
        "```python\n",
        "# Author: Jake VanderPlas\n",
        "\n",
        "print(sum(range(5),-1))\n",
        "from numpy import *\n",
        "print(sum(range(5),-1))\n",
        "```"
      ]
    },
    {
      "cell_type": "code",
      "source": [
        "import numpy as np\n",
        "\n",
        "a = np.array([10.02, 21.12, 73, 4, 6])\n",
        "\n",
        "print(np.sum(a))"
      ],
      "metadata": {
        "colab": {
          "base_uri": "https://localhost:8080/"
        },
        "id": "bWQMsDn6fhDW",
        "outputId": "5b003845-dba9-47bc-9e03-5a99150b3963"
      },
      "execution_count": null,
      "outputs": [
        {
          "output_type": "stream",
          "name": "stdout",
          "text": [
            "114.14\n"
          ]
        }
      ]
    },
    {
      "cell_type": "code",
      "execution_count": null,
      "metadata": {
        "id": "I9su6BuR041O",
        "colab": {
          "base_uri": "https://localhost:8080/"
        },
        "outputId": "a23376b7-2945-478a-a1a0-1c21518d9f3a"
      },
      "outputs": [
        {
          "output_type": "stream",
          "name": "stdout",
          "text": [
            "9\n",
            "10\n"
          ]
        }
      ],
      "source": [
        "print(sum(range(5),-1))\n",
        "from numpy import *\n",
        "print(sum(range(5),-1))"
      ]
    },
    {
      "cell_type": "code",
      "source": [
        "# print(range(5))\n",
        "# print(sum(range(5))) # sum(0,1,2,3,4)\n",
        "# print(sum(range(5),-1)) # sum(0,1,2,3,4),-1\n",
        "\n",
        "# print(sum(range(1,5),-3))\n",
        "\n",
        "# from numpy import *\n",
        "# print(sum(range(5),-1))"
      ],
      "metadata": {
        "colab": {
          "base_uri": "https://localhost:8080/"
        },
        "id": "Te51SL9NeVvI",
        "outputId": "220e823f-ea13-4c75-89bc-7e0216d916fc"
      },
      "execution_count": null,
      "outputs": [
        {
          "output_type": "stream",
          "name": "stdout",
          "text": [
            "range(0, 5)\n",
            "10\n",
            "9\n",
            "7\n",
            "10\n"
          ]
        }
      ]
    },
    {
      "cell_type": "markdown",
      "metadata": {
        "id": "KMa2LI_z041O"
      },
      "source": [
        "#### 27. Consider an integer vector Z, which of these expressions are legal? (★☆☆)"
      ]
    },
    {
      "cell_type": "markdown",
      "metadata": {
        "id": "pemB1moT041P"
      },
      "source": [
        "```python\n",
        "Z**Z\n",
        "2 << Z >> 2\n",
        "Z <- Z\n",
        "1j*Z\n",
        "Z/1/1\n",
        "Z<Z>Z\n",
        "```"
      ]
    },
    {
      "cell_type": "code",
      "execution_count": null,
      "metadata": {
        "id": "w5waUxtC041P",
        "colab": {
          "base_uri": "https://localhost:8080/"
        },
        "outputId": "79f1cbe8-5553-4690-de37-2883c4cedf82"
      },
      "outputs": [
        {
          "output_type": "stream",
          "name": "stdout",
          "text": [
            "[1 2 3 4 5]\n"
          ]
        }
      ],
      "source": [
        "z = np.arange(1,6)\n",
        "\n",
        "print(z)"
      ]
    },
    {
      "cell_type": "code",
      "source": [
        "print(z**z)\n",
        "\n",
        "# [1 2*2 3*3*3 4*4*4*4 5*5*5*5*5]"
      ],
      "metadata": {
        "colab": {
          "base_uri": "https://localhost:8080/"
        },
        "id": "2J7ZrZhpgKM-",
        "outputId": "9eebc719-1fcb-4c2f-f364-439025974a56"
      },
      "execution_count": null,
      "outputs": [
        {
          "output_type": "stream",
          "name": "stdout",
          "text": [
            "[   1    4   27  256 3125]\n"
          ]
        }
      ]
    },
    {
      "cell_type": "code",
      "source": [
        "# print(1 << z >> 1)  # --- > o/p: [ 1  2  4  8 16]\n",
        "\n",
        "# print(1 << z << 2)  # --- > o/p: [  8  16  32  64 128]\n",
        "\n",
        "# print(2 << z << 1)  # --- > o/p: [  8  16  32  64 128]\n",
        "\n",
        "# print(2 << z << 2)  # --- > o/p: [ 16  32  64 128 256]\n",
        "\n",
        "# print(1 << z << 3)  # --- > o/p: [ 16  32  64 128 256]\n",
        "\n",
        "# print(3 << z << 1)  # --- > o/p: [ 12  24  48  96 192]\n",
        "\n",
        "# print(2 << z << 3)  # --- > o/p: [ 32  64 128 256 512]\n",
        "\n",
        "# print(3 << z << 2)  # --- > o/p: [ 24  48  96 192 384]\n",
        "\n",
        "# print(3 << z << 3)  # --- > o/p: [ 48  96 192 384 768]\n"
      ],
      "metadata": {
        "id": "iHtkDt9mgWhX"
      },
      "execution_count": null,
      "outputs": []
    },
    {
      "cell_type": "code",
      "source": [
        "print(2<<z<<z)"
      ],
      "metadata": {
        "colab": {
          "base_uri": "https://localhost:8080/"
        },
        "id": "_6E2IBUFkcKt",
        "outputId": "4600d6ad-822b-4b36-811a-73f604bc705d"
      },
      "execution_count": null,
      "outputs": [
        {
          "output_type": "stream",
          "name": "stdout",
          "text": [
            "[   8   32  128  512 2048]\n"
          ]
        }
      ]
    },
    {
      "cell_type": "code",
      "source": [
        "print(z <- z)"
      ],
      "metadata": {
        "colab": {
          "base_uri": "https://localhost:8080/"
        },
        "id": "iy0ymJpAkjsg",
        "outputId": "113d92cb-20ba-4d6c-d10e-02e2f6855106"
      },
      "execution_count": null,
      "outputs": [
        {
          "output_type": "stream",
          "name": "stdout",
          "text": [
            "[False False False False False]\n"
          ]
        }
      ]
    },
    {
      "cell_type": "code",
      "source": [
        "print(1j*z)"
      ],
      "metadata": {
        "colab": {
          "base_uri": "https://localhost:8080/"
        },
        "id": "pEOrUpMwkte_",
        "outputId": "75dee2e9-7577-4fec-979f-3693e5b99604"
      },
      "execution_count": null,
      "outputs": [
        {
          "output_type": "stream",
          "name": "stdout",
          "text": [
            "[0.+1.j 0.+2.j 0.+3.j 0.+4.j 0.+5.j]\n"
          ]
        }
      ]
    },
    {
      "cell_type": "code",
      "source": [
        "print(z/1/1)"
      ],
      "metadata": {
        "colab": {
          "base_uri": "https://localhost:8080/"
        },
        "id": "dtUlJPg2k09b",
        "outputId": "45a2b84b-b3ae-4ff5-a6fc-9b7fa379a2ee"
      },
      "execution_count": null,
      "outputs": [
        {
          "output_type": "stream",
          "name": "stdout",
          "text": [
            "[1. 2. 3. 4. 5.]\n"
          ]
        }
      ]
    },
    {
      "cell_type": "code",
      "source": [
        "print(z<z>z)"
      ],
      "metadata": {
        "colab": {
          "base_uri": "https://localhost:8080/",
          "height": 182
        },
        "id": "6JlwdWf4k8CN",
        "outputId": "5bd0426b-b446-49b9-a780-561e558f9c81"
      },
      "execution_count": null,
      "outputs": [
        {
          "output_type": "error",
          "ename": "ValueError",
          "evalue": "ignored",
          "traceback": [
            "\u001b[0;31m---------------------------------------------------------------------------\u001b[0m",
            "\u001b[0;31mValueError\u001b[0m                                Traceback (most recent call last)",
            "\u001b[0;32m<ipython-input-57-b8bed8a919f8>\u001b[0m in \u001b[0;36m<module>\u001b[0;34m()\u001b[0m\n\u001b[0;32m----> 1\u001b[0;31m \u001b[0mprint\u001b[0m\u001b[0;34m(\u001b[0m\u001b[0mz\u001b[0m\u001b[0;34m<\u001b[0m\u001b[0mz\u001b[0m\u001b[0;34m>\u001b[0m\u001b[0mz\u001b[0m\u001b[0;34m)\u001b[0m\u001b[0;34m\u001b[0m\u001b[0;34m\u001b[0m\u001b[0m\n\u001b[0m",
            "\u001b[0;31mValueError\u001b[0m: The truth value of an array with more than one element is ambiguous. Use a.any() or a.all()"
          ]
        }
      ]
    },
    {
      "cell_type": "markdown",
      "metadata": {
        "id": "WFSmSRS8041P"
      },
      "source": [
        "#### 28. What are the result of the following expressions?"
      ]
    },
    {
      "cell_type": "markdown",
      "metadata": {
        "id": "welHTHK4041P"
      },
      "source": [
        "```python\n",
        "np.array(0) / np.array(0)\n",
        "np.array(0) // np.array(0)\n",
        "np.array([np.nan]).astype(int).astype(float)\n",
        "```"
      ]
    },
    {
      "cell_type": "code",
      "source": [
        "print(np.array(0) / np.array(0))\n",
        "\n",
        "# Zero division not possible"
      ],
      "metadata": {
        "colab": {
          "base_uri": "https://localhost:8080/"
        },
        "id": "hqdPScMWmFiJ",
        "outputId": "9003fd4f-9c6a-4814-9f72-d9652a31f0e1"
      },
      "execution_count": null,
      "outputs": [
        {
          "output_type": "stream",
          "name": "stdout",
          "text": [
            "nan\n"
          ]
        },
        {
          "output_type": "stream",
          "name": "stderr",
          "text": [
            "/usr/local/lib/python3.7/dist-packages/ipykernel_launcher.py:1: RuntimeWarning: invalid value encountered in true_divide\n",
            "  \"\"\"Entry point for launching an IPython kernel.\n"
          ]
        }
      ]
    },
    {
      "cell_type": "code",
      "execution_count": null,
      "metadata": {
        "id": "bqSXVNS7041P",
        "colab": {
          "base_uri": "https://localhost:8080/"
        },
        "outputId": "1d846553-6feb-44be-ac0d-5e5e46559c44"
      },
      "outputs": [
        {
          "output_type": "stream",
          "name": "stdout",
          "text": [
            "0.2\n"
          ]
        }
      ],
      "source": [
        "print(np.array(1) / np.array(5))"
      ]
    },
    {
      "cell_type": "code",
      "source": [
        "print(np.array(0) // np.array(0))"
      ],
      "metadata": {
        "colab": {
          "base_uri": "https://localhost:8080/"
        },
        "id": "lNLyipJElyQS",
        "outputId": "76834d6f-7a7b-4c87-cea3-dca79ffbecfc"
      },
      "execution_count": null,
      "outputs": [
        {
          "output_type": "stream",
          "name": "stdout",
          "text": [
            "0\n"
          ]
        },
        {
          "output_type": "stream",
          "name": "stderr",
          "text": [
            "/usr/local/lib/python3.7/dist-packages/ipykernel_launcher.py:1: RuntimeWarning: divide by zero encountered in floor_divide\n",
            "  \"\"\"Entry point for launching an IPython kernel.\n"
          ]
        }
      ]
    },
    {
      "cell_type": "code",
      "source": [
        "print(np.array(10) // np.array(5))"
      ],
      "metadata": {
        "colab": {
          "base_uri": "https://localhost:8080/"
        },
        "id": "LevXocd8l_Xf",
        "outputId": "f3acf6be-b238-42af-83f3-941f0c0e0b66"
      },
      "execution_count": null,
      "outputs": [
        {
          "output_type": "stream",
          "name": "stdout",
          "text": [
            "2\n"
          ]
        }
      ]
    },
    {
      "cell_type": "code",
      "source": [
        "print(np.array([np.nan]).astype(int).astype(float))"
      ],
      "metadata": {
        "colab": {
          "base_uri": "https://localhost:8080/"
        },
        "id": "kR-uSADkmVbT",
        "outputId": "514fffe7-f21f-485c-d8d2-e64480f6d95e"
      },
      "execution_count": null,
      "outputs": [
        {
          "output_type": "stream",
          "name": "stdout",
          "text": [
            "[-9.22337204e+18]\n"
          ]
        }
      ]
    },
    {
      "cell_type": "markdown",
      "metadata": {
        "id": "71nKKWhk041P"
      },
      "source": [
        "#### 29. How to round away from zero a float array ? (★☆☆) \n",
        "(**hint**: np.uniform, np.copysign, np.ceil, np.abs)"
      ]
    },
    {
      "cell_type": "code",
      "execution_count": null,
      "metadata": {
        "id": "whv6kUXH041P",
        "colab": {
          "base_uri": "https://localhost:8080/"
        },
        "outputId": "b59c876c-b98f-46e1-e869-0676c737589b"
      },
      "outputs": [
        {
          "output_type": "stream",
          "name": "stdout",
          "text": [
            "[-0.16389531  6.66700166 -1.72768661  1.25342772 -3.04071409  6.90870473\n",
            "  0.46805593 -1.76614128 -7.41433399  9.98312295]\n",
            "\n",
            " [0.16389531 6.66700166 1.72768661 1.25342772 3.04071409 6.90870473\n",
            " 0.46805593 1.76614128 7.41433399 9.98312295]\n",
            "\n",
            " [-1.  7. -2.  2. -4.  7.  1. -2. -8. 10.]\n"
          ]
        }
      ],
      "source": [
        "x = np.random.uniform(-10,+10,10)\n",
        "print(x)\n",
        "\n",
        "print(\"\\n\",np.abs(x))\n",
        "\n",
        "# print(\"\\n\", np.ceil(np.abs(x), x))\n",
        "\n",
        "print(\"\\n\",np.copysign(np.ceil(np.abs(x)), x))"
      ]
    },
    {
      "cell_type": "markdown",
      "metadata": {
        "id": "Jkpshb8i041P"
      },
      "source": [
        "#### 30. How to find common values between two arrays? (★☆☆) \n",
        "(**hint**: np.intersect1d)"
      ]
    },
    {
      "cell_type": "code",
      "execution_count": null,
      "metadata": {
        "id": "6jsVlRo1041P"
      },
      "outputs": [],
      "source": [
        "x1 = np.arange(1,26).reshape(5,5)\n",
        "x2 = np.arange(15,40).reshape(5,5)"
      ]
    },
    {
      "cell_type": "code",
      "source": [
        "print(\"\\n\", x1)\n",
        "print(\"\\n\", x2)"
      ],
      "metadata": {
        "colab": {
          "base_uri": "https://localhost:8080/"
        },
        "id": "ChhtIF5FpiuE",
        "outputId": "19c3bb9f-1ded-4d17-b738-a792c0f75a2e"
      },
      "execution_count": null,
      "outputs": [
        {
          "output_type": "stream",
          "name": "stdout",
          "text": [
            "\n",
            " [[ 1  2  3  4  5]\n",
            " [ 6  7  8  9 10]\n",
            " [11 12 13 14 15]\n",
            " [16 17 18 19 20]\n",
            " [21 22 23 24 25]]\n",
            "\n",
            " [[15 16 17 18 19]\n",
            " [20 21 22 23 24]\n",
            " [25 26 27 28 29]\n",
            " [30 31 32 33 34]\n",
            " [35 36 37 38 39]]\n"
          ]
        }
      ]
    },
    {
      "cell_type": "code",
      "source": [
        "print(np.intersect1d(x1,x2))"
      ],
      "metadata": {
        "colab": {
          "base_uri": "https://localhost:8080/"
        },
        "id": "BXTnWT3cpKD1",
        "outputId": "f549d066-7662-40be-8ce9-1c14c586f763"
      },
      "execution_count": null,
      "outputs": [
        {
          "output_type": "stream",
          "name": "stdout",
          "text": [
            "[15 16 17 18 19 20 21 22 23 24 25]\n"
          ]
        }
      ]
    },
    {
      "cell_type": "markdown",
      "metadata": {
        "id": "DudqNXol041P"
      },
      "source": [
        "#### 31. How to ignore all numpy warnings (not recommended)? (★☆☆) \n",
        "(**hint**: np.seterr, np.errstate)"
      ]
    },
    {
      "cell_type": "code",
      "execution_count": null,
      "metadata": {
        "id": "i9I4fGoZ041P"
      },
      "outputs": [],
      "source": [
        "import numpy as np\n",
        "x = np.seterr(all = 'ignore')\n",
        "z = np.ones(1)/0"
      ]
    },
    {
      "cell_type": "code",
      "source": [
        "# with np.errstate(divide = 'warn'): \n",
        "#   z = np.ones(1)/0"
      ],
      "metadata": {
        "colab": {
          "base_uri": "https://localhost:8080/"
        },
        "id": "c23oWcW81DiY",
        "outputId": "f8c148fb-2943-4fc0-c864-f45a85d18efe"
      },
      "execution_count": null,
      "outputs": [
        {
          "output_type": "stream",
          "name": "stderr",
          "text": [
            "/usr/local/lib/python3.7/dist-packages/ipykernel_launcher.py:2: RuntimeWarning: divide by zero encountered in true_divide\n",
            "  \n"
          ]
        }
      ]
    },
    {
      "cell_type": "code",
      "source": [
        "with np.errstate(divide = 'ignore'):\n",
        "  z = np.ones(1)/0\n",
        "\n",
        "# all: Literal['ignore', 'warn', 'raise', 'call', 'print', 'log']\n",
        "\n",
        "# divide: Literal['ignore', 'warn', 'raise', 'call', 'print', 'log']\n",
        "\n",
        "# over:\n",
        "\n",
        "# under:\n",
        "\n",
        "# invalid"
      ],
      "metadata": {
        "id": "KI0kzpSw2K1G"
      },
      "execution_count": null,
      "outputs": []
    },
    {
      "cell_type": "markdown",
      "metadata": {
        "id": "6Zdi3kUK041P"
      },
      "source": [
        "#### 32. Is the following expressions true? (★☆☆) \n",
        "(**hint**: imaginary number)"
      ]
    },
    {
      "cell_type": "markdown",
      "metadata": {
        "id": "Pmc8vtYC041P"
      },
      "source": [
        "```python\n",
        "np.sqrt(-1) == np.emath.sqrt(-1)\n",
        "```"
      ]
    },
    {
      "cell_type": "code",
      "execution_count": null,
      "metadata": {
        "id": "8qgzkdDV041P",
        "colab": {
          "base_uri": "https://localhost:8080/"
        },
        "outputId": "ce7e4d1b-fcf3-4744-ebe9-ffa3edf94411"
      },
      "outputs": [
        {
          "output_type": "execute_result",
          "data": {
            "text/plain": [
              "False"
            ]
          },
          "metadata": {},
          "execution_count": 6
        }
      ],
      "source": [
        "np.sqrt(-1) == np.emath.sqrt(-1)"
      ]
    },
    {
      "cell_type": "markdown",
      "metadata": {
        "id": "lcuKN67E041Q"
      },
      "source": [
        "#### 33. How to get the dates of yesterday, today and tomorrow? (★☆☆) \n",
        "(**hint**: np.datetime64, np.timedelta64)"
      ]
    },
    {
      "cell_type": "code",
      "execution_count": null,
      "metadata": {
        "collapsed": true,
        "id": "_sEoPg7e041Q",
        "colab": {
          "base_uri": "https://localhost:8080/"
        },
        "outputId": "c6e10f27-65ae-4804-c79a-1e99c437c400"
      },
      "outputs": [
        {
          "output_type": "stream",
          "name": "stdout",
          "text": [
            "Today: 2022-04-09\n",
            "\n",
            "Yesterday: 2022-04-08\n",
            "\n",
            "Tomorrow: 2022-04-10\n",
            "\n",
            "Last_year_same_Date: 2022-04-08T23:59\n"
          ]
        }
      ],
      "source": [
        "today = np.datetime64('today', 'D')\n",
        "\n",
        "yesterday = today - np.timedelta64(1, 'D') # (number of units, date/time)\n",
        "\n",
        "tomorrow = today + np.timedelta64(1, 'D')\n",
        "\n",
        "# timedelta64 data type was created to complement datetime64. \n",
        "# The arguments for timedelta64 are a number:\n",
        "#           to represent the number of units (eg: 2) and a date/time unit (eg: Y), \n",
        "#                     such as (D)ay, (M)onth, (Y)ear, (h)ours, (m)inutes, or (s)econds.\n",
        "\n",
        "last_year_same_Date = today - np.timedelta64(1, 'm')\n",
        "\n",
        "print(\"Today:\", today)\n",
        "print(\"\\nYesterday:\", yesterday)\n",
        "print(\"\\nTomorrow:\", tomorrow)\n",
        "\n",
        "print(\"\\nLast_year_same_Date:\", last_year_same_Date)"
      ]
    },
    {
      "cell_type": "markdown",
      "metadata": {
        "id": "pZprUOen041Q"
      },
      "source": [
        "#### 34. How to get all the dates corresponding to the month of July 2016? (★★☆) \n",
        "(**hint**: np.arange(dtype=datetime64\\['D'\\]))"
      ]
    },
    {
      "cell_type": "code",
      "execution_count": null,
      "metadata": {
        "id": "An427HQx041Q",
        "colab": {
          "base_uri": "https://localhost:8080/"
        },
        "outputId": "3f4913f9-0823-4b8f-d66f-2e5682069742"
      },
      "outputs": [
        {
          "output_type": "stream",
          "name": "stdout",
          "text": [
            "['2016-07-01' '2016-07-02' '2016-07-03' '2016-07-04' '2016-07-05'\n",
            " '2016-07-06' '2016-07-07' '2016-07-08' '2016-07-09' '2016-07-10'\n",
            " '2016-07-11' '2016-07-12' '2016-07-13' '2016-07-14' '2016-07-15'\n",
            " '2016-07-16' '2016-07-17' '2016-07-18' '2016-07-19' '2016-07-20'\n",
            " '2016-07-21' '2016-07-22' '2016-07-23' '2016-07-24' '2016-07-25'\n",
            " '2016-07-26' '2016-07-27' '2016-07-28' '2016-07-29' '2016-07-30'\n",
            " '2016-07-31']\n"
          ]
        }
      ],
      "source": [
        "july = np.arange ('2016-07', '2016-08', dtype = 'datetime64[D]')\n",
        "\n",
        "print(july)"
      ]
    },
    {
      "cell_type": "markdown",
      "metadata": {
        "id": "vomt_ckH041Q"
      },
      "source": [
        "#### 35. How to compute ((A+B)\\*(-A/2)) in place (without copy)? (★★☆) \n",
        "(**hint**: np.add(out=), np.negative(out=), np.multiply(out=), np.divide(out=))"
      ]
    },
    {
      "cell_type": "code",
      "execution_count": null,
      "metadata": {
        "id": "0YP_LOnm041Q",
        "colab": {
          "base_uri": "https://localhost:8080/"
        },
        "outputId": "5b8c3f7c-277b-4728-e464-a8b15f9b4308"
      },
      "outputs": [
        {
          "output_type": "execute_result",
          "data": {
            "text/plain": [
              "array([3., 3., 3., 3., 3.])"
            ]
          },
          "metadata": {},
          "execution_count": 79
        }
      ],
      "source": [
        "A = np.ones(5)     # 1,1,1,1,1\n",
        "\n",
        "B = np.ones(5)*2   # 2,2,2,2,2\n",
        "\n",
        "np.add(A, B, out=B) # (A+B) = B"
      ]
    },
    {
      "cell_type": "code",
      "source": [
        "A, B"
      ],
      "metadata": {
        "colab": {
          "base_uri": "https://localhost:8080/"
        },
        "id": "_4dkxiX7_FeC",
        "outputId": "a5bde57f-24a2-44fb-af73-bb1b7d1b4691"
      },
      "execution_count": null,
      "outputs": [
        {
          "output_type": "execute_result",
          "data": {
            "text/plain": [
              "(array([1., 1., 1., 1., 1.]), array([3., 3., 3., 3., 3.]))"
            ]
          },
          "metadata": {},
          "execution_count": 80
        }
      ]
    },
    {
      "cell_type": "code",
      "source": [
        "np.negative(A,out=A)  # A = -A"
      ],
      "metadata": {
        "colab": {
          "base_uri": "https://localhost:8080/"
        },
        "id": "3AAoHEl5-65R",
        "outputId": "3f3c5477-8f56-4702-eb79-ffdf5de12da4"
      },
      "execution_count": null,
      "outputs": [
        {
          "output_type": "execute_result",
          "data": {
            "text/plain": [
              "array([-1., -1., -1., -1., -1.])"
            ]
          },
          "metadata": {},
          "execution_count": 81
        }
      ]
    },
    {
      "cell_type": "code",
      "source": [
        "# np.divide(B, 2, out = B)  # [2., 2., 2., 2., 2.]\n",
        "\n",
        "np.divide(A, 2, out = A)  # (A/2)"
      ],
      "metadata": {
        "colab": {
          "base_uri": "https://localhost:8080/"
        },
        "id": "CbsExLsg-dGg",
        "outputId": "8deca69a-fa72-4396-96a4-7abc079bf605"
      },
      "execution_count": null,
      "outputs": [
        {
          "output_type": "execute_result",
          "data": {
            "text/plain": [
              "array([-0.5, -0.5, -0.5, -0.5, -0.5])"
            ]
          },
          "metadata": {},
          "execution_count": 82
        }
      ]
    },
    {
      "cell_type": "code",
      "source": [
        "np.multiply(A,B, out=A)"
      ],
      "metadata": {
        "colab": {
          "base_uri": "https://localhost:8080/"
        },
        "id": "27y9TZG-_D9u",
        "outputId": "cba1d265-6ce5-4f2f-c34b-ec2cad6a6ac8"
      },
      "execution_count": null,
      "outputs": [
        {
          "output_type": "execute_result",
          "data": {
            "text/plain": [
              "array([-1.5, -1.5, -1.5, -1.5, -1.5])"
            ]
          },
          "metadata": {},
          "execution_count": 83
        }
      ]
    },
    {
      "cell_type": "markdown",
      "metadata": {
        "id": "tWQThJsm041Q"
      },
      "source": [
        "#### 36. Extract the integer part of a random array using 5 different methods (★★☆) \n",
        "(**hint**: %, np.floor, np.ceil, astype, np.trunc)"
      ]
    },
    {
      "cell_type": "code",
      "execution_count": null,
      "metadata": {
        "id": "WJvTxWK1041Q",
        "colab": {
          "base_uri": "https://localhost:8080/"
        },
        "outputId": "92170293-de99-4dfd-c913-44eafb576ceb"
      },
      "outputs": [
        {
          "output_type": "stream",
          "name": "stdout",
          "text": [
            "[4.84920147 2.21802219 4.53463158 3.27168352 3.61606969 4.31989865\n",
            " 2.65052065 2.33939555 4.55568349 3.54468994]\n"
          ]
        }
      ],
      "source": [
        "z = np.random.uniform(2, 5, 10)\n",
        "\n",
        "print(z)"
      ]
    },
    {
      "cell_type": "code",
      "source": [
        "print(z%2)"
      ],
      "metadata": {
        "colab": {
          "base_uri": "https://localhost:8080/"
        },
        "id": "qHw2yVPaBdu5",
        "outputId": "e6c0154f-d991-410b-d777-1c4c88e72dd7"
      },
      "execution_count": null,
      "outputs": [
        {
          "output_type": "stream",
          "name": "stdout",
          "text": [
            "[0.84920147 0.21802219 0.53463158 1.27168352 1.61606969 0.31989865\n",
            " 0.65052065 0.33939555 0.55568349 1.54468994]\n"
          ]
        }
      ]
    },
    {
      "cell_type": "code",
      "source": [
        "print(np.floor(z))"
      ],
      "metadata": {
        "colab": {
          "base_uri": "https://localhost:8080/"
        },
        "id": "Y5dMI_bNBqdF",
        "outputId": "c16f7728-0ada-40d9-8f91-c13613e819a3"
      },
      "execution_count": null,
      "outputs": [
        {
          "output_type": "stream",
          "name": "stdout",
          "text": [
            "[4. 2. 4. 3. 3. 4. 2. 2. 4. 3.]\n"
          ]
        }
      ]
    },
    {
      "cell_type": "code",
      "source": [
        "print(np.ceil(z))"
      ],
      "metadata": {
        "colab": {
          "base_uri": "https://localhost:8080/"
        },
        "id": "9Era78mxBwmN",
        "outputId": "4657754c-432a-4c99-eab2-8d248250e951"
      },
      "execution_count": null,
      "outputs": [
        {
          "output_type": "stream",
          "name": "stdout",
          "text": [
            "[5. 3. 5. 4. 4. 5. 3. 3. 5. 4.]\n"
          ]
        }
      ]
    },
    {
      "cell_type": "code",
      "source": [
        "print(z.astype(int))"
      ],
      "metadata": {
        "colab": {
          "base_uri": "https://localhost:8080/"
        },
        "id": "zPvVrNKTB3sk",
        "outputId": "0b133abb-36f3-4332-b730-29d6e4ecb13e"
      },
      "execution_count": null,
      "outputs": [
        {
          "output_type": "stream",
          "name": "stdout",
          "text": [
            "[4 2 4 3 3 4 2 2 4 3]\n"
          ]
        }
      ]
    },
    {
      "cell_type": "code",
      "source": [
        "print(np.trunc(z))"
      ],
      "metadata": {
        "colab": {
          "base_uri": "https://localhost:8080/"
        },
        "id": "NfO4R-hFCAXj",
        "outputId": "d00204c0-df3d-4787-de10-1d29fc1bed23"
      },
      "execution_count": null,
      "outputs": [
        {
          "output_type": "stream",
          "name": "stdout",
          "text": [
            "[4. 2. 4. 3. 3. 4. 2. 2. 4. 3.]\n"
          ]
        }
      ]
    },
    {
      "cell_type": "markdown",
      "metadata": {
        "id": "abuZ0vrU041Q"
      },
      "source": [
        "#### 37. Create a 5x5 matrix with row values ranging from 0 to 4 (★★☆) \n",
        "(**hint**: np.arange)"
      ]
    },
    {
      "cell_type": "code",
      "execution_count": null,
      "metadata": {
        "id": "BjDBubqN041Q",
        "colab": {
          "base_uri": "https://localhost:8080/"
        },
        "outputId": "0685eb12-d5d4-4dc0-91c0-bef551e2239c"
      },
      "outputs": [
        {
          "output_type": "stream",
          "name": "stdout",
          "text": [
            "[[0 1 2 3 4]\n",
            " [0 1 2 3 4]\n",
            " [0 1 2 3 4]\n",
            " [0 1 2 3 4]\n",
            " [0 1 2 3 4]]\n"
          ]
        }
      ],
      "source": [
        "a = np.zeros((5,5), dtype = int)\n",
        "\n",
        "a += np.arange(5)\n",
        "\n",
        "print(a)"
      ]
    },
    {
      "cell_type": "code",
      "source": [
        "a = np.arange(5)\n",
        "\n",
        "z = np.tile((a), (5,1))\n",
        "print(z)"
      ],
      "metadata": {
        "colab": {
          "base_uri": "https://localhost:8080/"
        },
        "id": "JuD7QnQjH18d",
        "outputId": "b9bdf5d0-3897-4b3e-9564-32f76c77c5e6"
      },
      "execution_count": null,
      "outputs": [
        {
          "output_type": "stream",
          "name": "stdout",
          "text": [
            "[[0 1 2 3 4]\n",
            " [0 1 2 3 4]\n",
            " [0 1 2 3 4]\n",
            " [0 1 2 3 4]\n",
            " [0 1 2 3 4]]\n"
          ]
        }
      ]
    },
    {
      "cell_type": "markdown",
      "metadata": {
        "id": "Q1pduGTI041Q"
      },
      "source": [
        "#### 38. Consider a generator function that generates 10 integers and use it to build an array (★☆☆) \n",
        "(**hint**: np.fromiter)"
      ]
    },
    {
      "cell_type": "code",
      "execution_count": null,
      "metadata": {
        "id": "3Ve5-j-q041Q",
        "colab": {
          "base_uri": "https://localhost:8080/"
        },
        "outputId": "1bddd197-5ec7-4173-c3c2-b9f4524bc6c0"
      },
      "outputs": [
        {
          "output_type": "stream",
          "name": "stdout",
          "text": [
            "[ 1  4  9 16 25 36 49 64 81]\n"
          ]
        }
      ],
      "source": [
        "# numpy.fromiter(iter, dtype, count=- 1, *, like=None)\n",
        "\n",
        "def gen():\n",
        "  for x in range(1,10):\n",
        "    x = x**2\n",
        "    yield (x)\n",
        "\n",
        "a = np.fromiter(gen(), dtype=int)\n",
        "\n",
        "print(a)"
      ]
    },
    {
      "cell_type": "markdown",
      "metadata": {
        "id": "M6zj7ibw041Q"
      },
      "source": [
        "#### 39. Create a vector of size 10 with values ranging from 0 to 1, both excluded (★★☆) \n",
        "(**hint**: np.linspace)"
      ]
    },
    {
      "cell_type": "code",
      "execution_count": null,
      "metadata": {
        "id": "hSTklcsG041Q",
        "colab": {
          "base_uri": "https://localhost:8080/"
        },
        "outputId": "e0fdb58b-9caf-4f29-c663-0a3341dbdfb1"
      },
      "outputs": [
        {
          "output_type": "stream",
          "name": "stdout",
          "text": [
            "[0.09090909 0.18181818 0.27272727 0.36363636 0.45454545 0.54545455\n",
            " 0.63636364 0.72727273 0.81818182 0.90909091]\n"
          ]
        }
      ],
      "source": [
        "# numpy.linspace(start, stop, num=50, endpoint=True, retstep=False, dtype=None, axis=0)\n",
        "\n",
        "a = np.linspace(0,1, num=11, endpoint=False) # to assign last element to value below, a[last] != 1.\n",
        "\n",
        "a = a[1::] # to leave a[0] = 0. \n",
        "\n",
        "print(a)"
      ]
    },
    {
      "cell_type": "markdown",
      "metadata": {
        "id": "pPux92cn041R"
      },
      "source": [
        "#### 40. Create a random vector of size 10 and sort it (★★☆) \n",
        "(**hint**: sort)"
      ]
    },
    {
      "cell_type": "code",
      "execution_count": null,
      "metadata": {
        "id": "a_UUpBQo041R",
        "colab": {
          "base_uri": "https://localhost:8080/"
        },
        "outputId": "425ff3b9-1665-4680-c3d0-542224380d0e"
      },
      "outputs": [
        {
          "output_type": "stream",
          "name": "stdout",
          "text": [
            "[-2 -2 -2 -1  0  1  1  2  3  4]\n"
          ]
        }
      ],
      "source": [
        "a = np.random.randint(-2, 5, 10)\n",
        "\n",
        "a.sort()\n",
        "\n",
        "print(a)"
      ]
    },
    {
      "cell_type": "markdown",
      "metadata": {
        "id": "DYbdyzIw041R"
      },
      "source": [
        "#### 41. How to sum a small array faster than np.sum? (★★☆) \n",
        "(**hint**: np.add.reduce)"
      ]
    },
    {
      "cell_type": "code",
      "execution_count": null,
      "metadata": {
        "id": "A8-Wghwn041R",
        "colab": {
          "base_uri": "https://localhost:8080/"
        },
        "outputId": "d2e0dc4e-8a8a-4d6b-b381-578a191831f8"
      },
      "outputs": [
        {
          "output_type": "stream",
          "name": "stdout",
          "text": [
            "[3 2 4 3 3 2 3 3 4 3]\n"
          ]
        },
        {
          "output_type": "execute_result",
          "data": {
            "text/plain": [
              "30"
            ]
          },
          "metadata": {},
          "execution_count": 148
        }
      ],
      "source": [
        "a = np.random.randint(2, 5, 10)\n",
        "print(a)\n",
        "np.add.reduce(a) # np.sum(a)"
      ]
    },
    {
      "cell_type": "markdown",
      "metadata": {
        "id": "RbKxdpdb041R"
      },
      "source": [
        "#### 42. Consider two random array A and B, check if they are equal (★★☆) \n",
        "(**hint**: np.allclose, np.array\\_equal)"
      ]
    },
    {
      "cell_type": "code",
      "execution_count": null,
      "metadata": {
        "id": "5iBQImnM041R",
        "colab": {
          "base_uri": "https://localhost:8080/"
        },
        "outputId": "006245de-adea-48a2-a36d-4fbb8c8ae61a"
      },
      "outputs": [
        {
          "output_type": "stream",
          "name": "stdout",
          "text": [
            "[2 2 2 2 2] [2 1 1 1 2]\n"
          ]
        }
      ],
      "source": [
        "a = np.random.randint(1,3,5)\n",
        "b = np.random.randint(1,3,5)\n",
        "\n",
        "print(a,b)"
      ]
    },
    {
      "cell_type": "code",
      "source": [
        "if np.allclose(a,b):\n",
        "  print(True)\n",
        "else:\n",
        "  print(0)"
      ],
      "metadata": {
        "colab": {
          "base_uri": "https://localhost:8080/"
        },
        "id": "ZGXke_IpL59u",
        "outputId": "cf103c56-a474-450d-e6a8-77f239f93553"
      },
      "execution_count": null,
      "outputs": [
        {
          "output_type": "stream",
          "name": "stdout",
          "text": [
            "0\n"
          ]
        }
      ]
    },
    {
      "cell_type": "code",
      "source": [
        "if np.array_equal(a,b):\n",
        "  print(1)\n",
        "else:\n",
        "  print(False)"
      ],
      "metadata": {
        "colab": {
          "base_uri": "https://localhost:8080/"
        },
        "id": "GRbx2ft0MAml",
        "outputId": "f30ecb76-bc94-466f-a2e6-e0b1103e182a"
      },
      "execution_count": null,
      "outputs": [
        {
          "output_type": "stream",
          "name": "stdout",
          "text": [
            "False\n"
          ]
        }
      ]
    },
    {
      "cell_type": "markdown",
      "metadata": {
        "id": "sw6rXffw041R"
      },
      "source": [
        "#### 43. Make an array immutable (read-only) (★★☆) \n",
        "(**hint**: flags.writeable)"
      ]
    },
    {
      "cell_type": "code",
      "execution_count": null,
      "metadata": {
        "id": "EaRiOxqa041R",
        "colab": {
          "base_uri": "https://localhost:8080/"
        },
        "outputId": "56df0d9d-7fa9-4095-eb82-181ab6098e90"
      },
      "outputs": [
        {
          "output_type": "stream",
          "name": "stdout",
          "text": [
            "[1 2 3 4 5]\n",
            "\n",
            " [10  2  0  0  0]\n"
          ]
        }
      ],
      "source": [
        "z = np.arange(1,6)\n",
        "\n",
        "print(z)\n",
        "\n",
        "z[0] = 10\n",
        "z[2:] =0\n",
        "\n",
        "print(\"\\n\",z)"
      ]
    },
    {
      "cell_type": "code",
      "source": [
        "z = np.arange(1,6)\n",
        "\n",
        "z.flags.writeable = False\n",
        "\n",
        "z[0] = 10\n",
        "z[2:] = 0\n",
        "\n",
        "print(z)"
      ],
      "metadata": {
        "colab": {
          "base_uri": "https://localhost:8080/",
          "height": 234
        },
        "id": "5IGOgvhKNUSP",
        "outputId": "db252219-bffe-47b9-d676-a708efa2672b"
      },
      "execution_count": null,
      "outputs": [
        {
          "output_type": "error",
          "ename": "ValueError",
          "evalue": "ignored",
          "traceback": [
            "\u001b[0;31m---------------------------------------------------------------------------\u001b[0m",
            "\u001b[0;31mValueError\u001b[0m                                Traceback (most recent call last)",
            "\u001b[0;32m<ipython-input-167-fba44c21a643>\u001b[0m in \u001b[0;36m<module>\u001b[0;34m()\u001b[0m\n\u001b[1;32m      3\u001b[0m \u001b[0mz\u001b[0m\u001b[0;34m.\u001b[0m\u001b[0mflags\u001b[0m\u001b[0;34m.\u001b[0m\u001b[0mwriteable\u001b[0m \u001b[0;34m=\u001b[0m \u001b[0;32mFalse\u001b[0m\u001b[0;34m\u001b[0m\u001b[0;34m\u001b[0m\u001b[0m\n\u001b[1;32m      4\u001b[0m \u001b[0;34m\u001b[0m\u001b[0m\n\u001b[0;32m----> 5\u001b[0;31m \u001b[0mz\u001b[0m\u001b[0;34m[\u001b[0m\u001b[0;36m0\u001b[0m\u001b[0;34m]\u001b[0m \u001b[0;34m=\u001b[0m \u001b[0;36m10\u001b[0m\u001b[0;34m\u001b[0m\u001b[0;34m\u001b[0m\u001b[0m\n\u001b[0m\u001b[1;32m      6\u001b[0m \u001b[0mz\u001b[0m\u001b[0;34m[\u001b[0m\u001b[0;36m2\u001b[0m\u001b[0;34m:\u001b[0m\u001b[0;34m]\u001b[0m \u001b[0;34m=\u001b[0m \u001b[0;36m0\u001b[0m\u001b[0;34m\u001b[0m\u001b[0;34m\u001b[0m\u001b[0m\n\u001b[1;32m      7\u001b[0m \u001b[0;34m\u001b[0m\u001b[0m\n",
            "\u001b[0;31mValueError\u001b[0m: assignment destination is read-only"
          ]
        }
      ]
    },
    {
      "cell_type": "markdown",
      "metadata": {
        "id": "q4A-Dycj041R"
      },
      "source": [
        "#### 44. Consider a random 10x2 matrix representing cartesian coordinates, convert them to polar coordinates (★★☆) \n",
        "(**hint**: np.sqrt, np.arctan2)"
      ]
    },
    {
      "cell_type": "code",
      "execution_count": 33,
      "metadata": {
        "id": "7WX04zim041S",
        "colab": {
          "base_uri": "https://localhost:8080/"
        },
        "outputId": "dd846b38-336b-4fc2-d480-7a7cf77717f2"
      },
      "outputs": [
        {
          "output_type": "stream",
          "name": "stdout",
          "text": [
            "[3.60555128 4.12310563 2.23606798 2.82842712 4.12310563 2.23606798\n",
            " 5.         2.23606798 4.12310563 4.47213595]\n",
            "[0.98279372 1.32581766 1.10714872 0.78539816 1.32581766 0.46364761\n",
            " 0.64350111 0.46364761 1.32581766 0.46364761]\n"
          ]
        }
      ],
      "source": [
        "cartesian = np.random.randint(1,5,20).reshape(10,2)\n",
        "\n",
        "# Cartesian coordinate system uses the (real) number line as the reference\n",
        "\n",
        "# r = sqrt(x**2+y**2) ---> reshape\n",
        "\n",
        "# x = rcos(theta), y = rsin(theta)\n",
        "\n",
        "# Polar coordinates use an angle and a length as the coordinates\n",
        "\n",
        "x,y = cartesian[:,0], cartesian[:,1]\n",
        "\n",
        "r = np.sqrt(x**2+y**2)\n",
        "\n",
        "p = np.arctan2(y,x)\n",
        "\n",
        "print(r)\n",
        "print(p)"
      ]
    },
    {
      "cell_type": "markdown",
      "metadata": {
        "id": "7ZGkBNv5041S"
      },
      "source": [
        "#### 45. Create random vector of size 10 and replace the maximum value by 0 (★★☆) \n",
        "(**hint**: argmax)"
      ]
    },
    {
      "cell_type": "code",
      "execution_count": null,
      "metadata": {
        "id": "0y_Kz37z041S",
        "colab": {
          "base_uri": "https://localhost:8080/"
        },
        "outputId": "b87f68a6-13a4-4a48-f378-6f71b49093a3"
      },
      "outputs": [
        {
          "output_type": "stream",
          "name": "stdout",
          "text": [
            "[3 7 6 4 8 8 6 7 8 7]\n",
            "\n",
            "Result:\n",
            " [3 7 6 4 0 8 6 7 8 7]\n"
          ]
        }
      ],
      "source": [
        "z = np.random.randint(3,10,10)\n",
        "\n",
        "print(z)\n",
        "\n",
        "a = np.argmax(z)\n",
        "\n",
        "z[a] = 0\n",
        "\n",
        "print(\"\\nResult:\\n\",z)"
      ]
    },
    {
      "cell_type": "markdown",
      "metadata": {
        "id": "4pRHZ01C041S"
      },
      "source": [
        "#### 46. Create a structured array with `x` and `y` coordinates covering the \\[0,1\\]x\\[0,1\\] area (★★☆) \n",
        "(**hint**: np.meshgrid)"
      ]
    },
    {
      "cell_type": "code",
      "execution_count": 34,
      "metadata": {
        "id": "-2udd--E041S",
        "colab": {
          "base_uri": "https://localhost:8080/"
        },
        "outputId": "e5aad590-9f49-4210-952a-b528550b10a4"
      },
      "outputs": [
        {
          "output_type": "stream",
          "name": "stdout",
          "text": [
            "[[(0.  , 0.  ) (0.25, 0.  ) (0.5 , 0.  ) (0.75, 0.  ) (1.  , 0.  )]\n",
            " [(0.  , 0.25) (0.25, 0.25) (0.5 , 0.25) (0.75, 0.25) (1.  , 0.25)]\n",
            " [(0.  , 0.5 ) (0.25, 0.5 ) (0.5 , 0.5 ) (0.75, 0.5 ) (1.  , 0.5 )]\n",
            " [(0.  , 0.75) (0.25, 0.75) (0.5 , 0.75) (0.75, 0.75) (1.  , 0.75)]\n",
            " [(0.  , 1.  ) (0.25, 1.  ) (0.5 , 1.  ) (0.75, 1.  ) (1.  , 1.  )]]\n"
          ]
        }
      ],
      "source": [
        "z = np.zeros((5,5), [('x',float),('y',float)])\n",
        "z['x'], z['y'] = np.meshgrid(np.linspace(0,1,5),\n",
        "                             np.linspace(0,1,5))\n",
        "print(z)"
      ]
    },
    {
      "cell_type": "markdown",
      "metadata": {
        "id": "9oW2BKQT041S"
      },
      "source": [
        "####  47. Given two arrays, X and Y, construct the Cauchy matrix C (Cij =1/(xi - yj)) \n",
        "(**hint**: np.subtract.outer)"
      ]
    },
    {
      "cell_type": "code",
      "execution_count": 38,
      "metadata": {
        "id": "Apd10BBm041S",
        "colab": {
          "base_uri": "https://localhost:8080/"
        },
        "outputId": "2c95a6f6-fbcd-4721-ccbc-48097d2639a1"
      },
      "outputs": [
        {
          "output_type": "stream",
          "name": "stdout",
          "text": [
            "3638.163637117973\n"
          ]
        }
      ],
      "source": [
        "x = np.arange(8)\n",
        "y = x + 0.5\n",
        "z = 1.0 / np.subtract.outer(x, y)\n",
        "\n",
        "print(np.linalg.det(z))"
      ]
    },
    {
      "cell_type": "markdown",
      "metadata": {
        "id": "_1EbmR2Z041S"
      },
      "source": [
        "#### 48. Print the minimum and maximum representable value for each numpy scalar type (★★☆) \n",
        "(**hint**: np.iinfo, np.finfo, eps)"
      ]
    },
    {
      "cell_type": "code",
      "execution_count": 39,
      "metadata": {
        "id": "OF7CbY_r041S",
        "colab": {
          "base_uri": "https://localhost:8080/"
        },
        "outputId": "02841e15-681d-406b-b869-c2d24520ecdc"
      },
      "outputs": [
        {
          "output_type": "stream",
          "name": "stdout",
          "text": [
            "-128\n",
            "127\n",
            "-2147483648\n",
            "2147483647\n",
            "-9223372036854775808\n",
            "9223372036854775807\n",
            "-3.4028235e+38\n",
            "3.4028235e+38\n",
            "1.1920929e-07\n",
            "-1.7976931348623157e+308\n",
            "1.7976931348623157e+308\n",
            "2.220446049250313e-16\n"
          ]
        }
      ],
      "source": [
        "for dtype in [np.int8, np.int32, np.int64]:\n",
        "   print(np.iinfo(dtype).min)\n",
        "   print(np.iinfo(dtype).max)\n",
        "   \n",
        "for dtype in [np.float32, np.float64]:\n",
        "   print(np.finfo(dtype).min)\n",
        "   print(np.finfo(dtype).max)\n",
        "   print(np.finfo(dtype).eps)"
      ]
    },
    {
      "cell_type": "markdown",
      "metadata": {
        "id": "i4wXPcPO041T"
      },
      "source": [
        "#### 49. How to print all the values of an array? (★★☆) \n",
        "(**hint**: np.set\\_printoptions)"
      ]
    },
    {
      "cell_type": "code",
      "execution_count": null,
      "metadata": {
        "id": "DbEafF_U041T",
        "colab": {
          "base_uri": "https://localhost:8080/"
        },
        "outputId": "78d68c8c-146f-4df2-eb10-8d69dba5da14"
      },
      "outputs": [
        {
          "output_type": "stream",
          "name": "stdout",
          "text": [
            "[[[0.41909736 0.42854665 0.68007786 0.52082445 0.18720802]\n",
            "  [0.36117382 0.71089663 0.56603691 0.147935   0.5902505 ]\n",
            "  [0.60432519 0.61010286 0.27572895 0.76018788 0.08563519]\n",
            "  [0.5830286  0.33546199 0.17973139 0.51313267 0.61900338]\n",
            "  [0.112784   0.00671846 0.40229832 0.28692992 0.52877202]]\n",
            "\n",
            " [[0.89256166 0.08762229 0.12618744 0.68088371 0.37438317]\n",
            "  [0.16952327 0.86692614 0.32381616 0.19706581 0.69582718]\n",
            "  [0.15616453 0.81277367 0.7863924  0.45002403 0.86518364]\n",
            "  [0.50969573 0.14229217 0.59982243 0.3579076  0.80627457]\n",
            "  [0.52036352 0.72468962 0.8342166  0.14190214 0.0032595 ]]\n",
            "\n",
            " [[0.45546402 0.51154615 0.23821378 0.66671293 0.41869458]\n",
            "  [0.70931118 0.46586244 0.65361727 0.85881721 0.82372845]\n",
            "  [0.27526202 0.56080291 0.84747553 0.50632246 0.36073694]\n",
            "  [0.73245196 0.35459171 0.03418121 0.61298081 0.51455601]\n",
            "  [0.31287267 0.72492002 0.32389494 0.68580218 0.43258243]]\n",
            "\n",
            " [[0.62557023 0.96247163 0.4566274  0.00387509 0.28506707]\n",
            "  [0.09682024 0.32847194 0.14985564 0.37719689 0.85569855]\n",
            "  [0.21912754 0.00783784 0.64665167 0.02188196 0.55550697]\n",
            "  [0.44350612 0.80895874 0.04379132 0.90085174 0.42640038]\n",
            "  [0.15514313 0.83589081 0.75217327 0.18641098 0.32949634]]\n",
            "\n",
            " [[0.16906061 0.09766146 0.3919201  0.88073349 0.10700578]\n",
            "  [0.29841749 0.59104566 0.41249309 0.80526368 0.72238033]\n",
            "  [0.19969571 0.75231022 0.18000794 0.62962875 0.53769503]\n",
            "  [0.88360981 0.3785822  0.36404259 0.75209562 0.87023926]\n",
            "  [0.56362642 0.50778788 0.6230253  0.14423768 0.77380642]]]\n"
          ]
        }
      ],
      "source": [
        "import sys\n",
        "\n",
        "np.set_printoptions(threshold = sys.maxsize)\n",
        "\n",
        "z = np.random.random((5,5,5))\n",
        "\n",
        "print(z)"
      ]
    },
    {
      "cell_type": "markdown",
      "metadata": {
        "id": "t2WMe3Kp041T"
      },
      "source": [
        "#### 50. How to find the closest value (to a given scalar) in a vector? (★★☆) \n",
        "(**hint**: argmin)"
      ]
    },
    {
      "cell_type": "code",
      "execution_count": null,
      "metadata": {
        "id": "oYKKbgNk041T",
        "colab": {
          "base_uri": "https://localhost:8080/"
        },
        "outputId": "6c3d8d72-6d7b-4492-c155-203350cdcaed"
      },
      "outputs": [
        {
          "output_type": "stream",
          "name": "stdout",
          "text": [
            "[ 0  1  2  3  4  5  6  7  8  9 10 11 12 13 14 15 16 17 18 19 20 21 22 23\n",
            " 24 25 26 27 28 29 30 31 32 33 34 35 36 37 38 39 40 41 42 43 44 45 46 47\n",
            " 48 49]\n",
            "\n",
            " 34.3367748305276\n",
            "\n",
            "Closest Value: 34\n"
          ]
        }
      ],
      "source": [
        "z = np.arange(50)\n",
        "a = np.random.uniform(0,100)\n",
        "\n",
        "print(z)\n",
        "\n",
        "print(\"\\n\",a)\n",
        "\n",
        "x = (np.abs(z-a)).argmin()\n",
        "print(\"\\nClosest Value:\",z[x])"
      ]
    },
    {
      "cell_type": "markdown",
      "metadata": {
        "id": "VRYwqe60041T"
      },
      "source": [
        "#### 51. Create a structured array representing a position (x,y) and a color (r,g,b) (★★☆) \n",
        "(**hint**: dtype)"
      ]
    },
    {
      "cell_type": "code",
      "execution_count": null,
      "metadata": {
        "id": "847b02_m041T",
        "colab": {
          "base_uri": "https://localhost:8080/"
        },
        "outputId": "e9e37095-b466-4b08-feac-12772f1d0a9b"
      },
      "outputs": [
        {
          "output_type": "stream",
          "name": "stdout",
          "text": [
            "[((0., 0.), (0., 0., 0.)) ((0., 0.), (0., 0., 0.))\n",
            " ((0., 0.), (0., 0., 0.)) ((0., 0.), (0., 0., 0.))\n",
            " ((0., 0.), (0., 0., 0.)) ((0., 0.), (0., 0., 0.))\n",
            " ((0., 0.), (0., 0., 0.)) ((0., 0.), (0., 0., 0.))\n",
            " ((0., 0.), (0., 0., 0.)) ((0., 0.), (0., 0., 0.))]\n"
          ]
        }
      ],
      "source": [
        "Z = np.zeros(10, [ ('position', [ ('x', float),\n",
        "                                   ('y', float)]),\n",
        "                    ('color',    [ ('r', float),\n",
        "                                   ('g', float),\n",
        "                                   ('b', float)])])\n",
        "print(Z)"
      ]
    },
    {
      "cell_type": "markdown",
      "metadata": {
        "id": "NFsrG1U9041T"
      },
      "source": [
        "#### 52. Consider a random vector with shape (100,2) representing coordinates, find point by point distances (★★☆) \n",
        "(**hint**: np.atleast\\_2d, T, np.sqrt)"
      ]
    },
    {
      "cell_type": "code",
      "execution_count": 4,
      "metadata": {
        "id": "lvQUNJhu041T",
        "colab": {
          "base_uri": "https://localhost:8080/",
          "height": 0
        },
        "outputId": "e30af5be-bea0-492c-9647-f94c01acc30b"
      },
      "outputs": [
        {
          "output_type": "stream",
          "name": "stdout",
          "text": [
            "[[0.         0.47063958 0.70560761 0.24150072 0.23957298 0.61938436\n",
            "  0.72194291 0.63126628 0.50002254 0.63966565]\n",
            " [0.47063958 0.         0.30234035 0.24889515 0.28275753 0.20555117\n",
            "  0.33870427 0.3225228  0.39607111 0.17606546]\n",
            " [0.70560761 0.30234035 0.         0.46443701 0.57017622 0.3971719\n",
            "  0.50563208 0.55572154 0.36192685 0.1749685 ]\n",
            " [0.24150072 0.24889515 0.46443701 0.         0.18279701 0.43284143\n",
            "  0.55558996 0.49617227 0.31994091 0.40578006]\n",
            " [0.23957298 0.28275753 0.57017622 0.18279701 0.         0.38968124\n",
            "  0.48409285 0.39185194 0.50000442 0.45849086]\n",
            " [0.61938436 0.20555117 0.3971719  0.43284143 0.38968124 0.\n",
            "  0.13378609 0.15970314 0.59485078 0.22220423]\n",
            " [0.72194291 0.33870427 0.50563208 0.55558996 0.48409285 0.13378609\n",
            "  0.         0.12467222 0.72825237 0.33462013]\n",
            " [0.63126628 0.3225228  0.55572154 0.49617227 0.39185194 0.15970314\n",
            "  0.12467222 0.         0.71754366 0.38099001]\n",
            " [0.50002254 0.39607111 0.36192685 0.31994091 0.50000442 0.59485078\n",
            "  0.72825237 0.71754366 0.         0.43654649]\n",
            " [0.63966565 0.17606546 0.1749685  0.40578006 0.45849086 0.22220423\n",
            "  0.33462013 0.38099001 0.43654649 0.        ]]\n"
          ]
        }
      ],
      "source": [
        "x = np.random.random((10,2))\n",
        "y,z = np.atleast_2d(x[:,0], x[:,1])\n",
        "a = np.sqrt( (y-y.T)**2 + (z-z.T)**2)\n",
        "print(a)"
      ]
    },
    {
      "cell_type": "markdown",
      "metadata": {
        "id": "ZjuXscue041T"
      },
      "source": [
        "#### 53. How to convert a float (32 bits) array into an integer (32 bits) in place? \n",
        "(**hint**: astype(copy=False))"
      ]
    },
    {
      "cell_type": "code",
      "execution_count": null,
      "metadata": {
        "id": "O_Hj1FRu041U",
        "colab": {
          "base_uri": "https://localhost:8080/"
        },
        "outputId": "428b1a90-d5cf-47b3-cbc5-e15e23709d86"
      },
      "outputs": [
        {
          "output_type": "stream",
          "name": "stdout",
          "text": [
            "[1. 2. 3. 4.]\n",
            "[1 2 3 4]\n"
          ]
        }
      ],
      "source": [
        "z = np.arange(1,5, dtype = np.float32)\n",
        "print(z)\n",
        "\n",
        "z = z.astype(np.int32, copy = False)\n",
        "print(z)\n"
      ]
    },
    {
      "cell_type": "markdown",
      "metadata": {
        "id": "mEz0P5Ll041U"
      },
      "source": [
        "#### 54. How to read the following file? (★★☆) \n",
        "(**hint**: np.genfromtxt)"
      ]
    },
    {
      "cell_type": "markdown",
      "metadata": {
        "id": "lWJzkRNl041U"
      },
      "source": [
        "```\n",
        "1, 2, 3, 4, 5\n",
        "6,  ,  , 7, 8\n",
        " ,  , 9,10,11\n",
        "```"
      ]
    },
    {
      "cell_type": "code",
      "source": [
        "from io import StringIO\n",
        "\n",
        "String = StringIO('''1, 2, 3, 4, 5\n",
        "                6,  ,  , 7, 8\n",
        "                 ,  , 9,10,11\n",
        "''')\n",
        "x = np.genfromtxt(String, delimiter=\",\", dtype=int)\n",
        "print(x)"
      ],
      "metadata": {
        "colab": {
          "base_uri": "https://localhost:8080/"
        },
        "id": "5f3moRSFi5S0",
        "outputId": "77daeccc-f809-4522-bda7-f5ba057d60a8"
      },
      "execution_count": null,
      "outputs": [
        {
          "output_type": "stream",
          "name": "stdout",
          "text": [
            "[[ 1  2  3  4  5]\n",
            " [ 6 -1 -1  7  8]\n",
            " [-1 -1  9 10 11]]\n"
          ]
        }
      ]
    },
    {
      "cell_type": "markdown",
      "metadata": {
        "id": "3DrDdITd041U"
      },
      "source": [
        "#### 55. What is the equivalent of enumerate for numpy arrays? (★★☆) \n",
        "(**hint**: np.ndenumerate, np.ndindex)"
      ]
    },
    {
      "cell_type": "code",
      "source": [
        "a = np.arange(3*3).reshape(3,3)\n",
        "for x, y in np.ndenumerate(Z):\n",
        "    print(x, y)\n",
        "print(\"\\n************\")\n",
        "for index in np.ndindex(Z.shape):\n",
        "    print(index, a[index])"
      ],
      "metadata": {
        "colab": {
          "base_uri": "https://localhost:8080/"
        },
        "id": "CcMIKHx9l29z",
        "outputId": "07588c11-2604-4ad0-b466-5c9528365fea"
      },
      "execution_count": null,
      "outputs": [
        {
          "output_type": "stream",
          "name": "stdout",
          "text": [
            "(0, 0) 0\n",
            "(0, 1) 1\n",
            "(0, 2) 2\n",
            "(1, 0) 3\n",
            "(1, 1) 4\n",
            "(1, 2) 5\n",
            "(2, 0) 6\n",
            "(2, 1) 7\n",
            "(2, 2) 8\n",
            "\n",
            "************\n",
            "(0, 0) 0\n",
            "(0, 1) 1\n",
            "(0, 2) 2\n",
            "(1, 0) 3\n",
            "(1, 1) 4\n",
            "(1, 2) 5\n",
            "(2, 0) 6\n",
            "(2, 1) 7\n",
            "(2, 2) 8\n"
          ]
        }
      ]
    },
    {
      "cell_type": "markdown",
      "metadata": {
        "id": "XADn_-Iz041U"
      },
      "source": [
        "#### 56. Generate a generic 2D Gaussian-like array (★★☆) \n",
        "(**hint**: np.meshgrid, np.exp)"
      ]
    },
    {
      "cell_type": "code",
      "execution_count": 3,
      "metadata": {
        "id": "XQFN476q041U",
        "colab": {
          "base_uri": "https://localhost:8080/",
          "height": 0
        },
        "outputId": "abdd92e5-3d4f-42ed-f37b-ca1212b64134"
      },
      "outputs": [
        {
          "output_type": "stream",
          "name": "stdout",
          "text": [
            "[[0.36787944 0.53526143 0.60653066 0.53526143 0.36787944]\n",
            " [0.53526143 0.77880078 0.8824969  0.77880078 0.53526143]\n",
            " [0.60653066 0.8824969  1.         0.8824969  0.60653066]\n",
            " [0.53526143 0.77880078 0.8824969  0.77880078 0.53526143]\n",
            " [0.36787944 0.53526143 0.60653066 0.53526143 0.36787944]]\n"
          ]
        }
      ],
      "source": [
        "import numpy as np\n",
        "\n",
        "x, y = np.meshgrid(np.linspace(-1,1,5), np.linspace(-1,1,5))\n",
        "\n",
        "z = np.sqrt(x*x+y*y)\n",
        "\n",
        "sigma, mu = 1.0, 0.0\n",
        "\n",
        "a = np.exp(-( (z-mu)**2 / ( 2.0 * sigma**2 ) ) )\n",
        "print(a)"
      ]
    },
    {
      "cell_type": "markdown",
      "metadata": {
        "id": "D7X6t7aw041U"
      },
      "source": [
        "#### 57. How to randomly place p elements in a 2D array? (★★☆) \n",
        "(**hint**: np.put, np.random.choice)"
      ]
    },
    {
      "cell_type": "code",
      "execution_count": null,
      "metadata": {
        "id": "55GRq7BD041U",
        "colab": {
          "base_uri": "https://localhost:8080/"
        },
        "outputId": "622e9637-c389-4f22-b423-ac0419f59419"
      },
      "outputs": [
        {
          "output_type": "stream",
          "name": "stdout",
          "text": [
            "[[0 1 1 0 1]\n",
            " [1 0 1 1 1]\n",
            " [0 1 1 1 1]\n",
            " [1 0 0 1 1]\n",
            " [1 0 1 1 0]]\n"
          ]
        }
      ],
      "source": [
        "n = 5\n",
        "p = 10\n",
        "z = np.ones((n,n), dtype =int)\n",
        "np.put(z, np.random.choice(range(n*n), p),0)\n",
        "print (z)"
      ]
    },
    {
      "cell_type": "markdown",
      "metadata": {
        "id": "pxJzUlzT041U"
      },
      "source": [
        "#### 58. Subtract the mean of each row of a matrix (★★☆) \n",
        "(**hint**: mean(axis=,keepdims=))"
      ]
    },
    {
      "cell_type": "code",
      "execution_count": null,
      "metadata": {
        "id": "0uIYagWC041U",
        "colab": {
          "base_uri": "https://localhost:8080/"
        },
        "outputId": "fca8e9c6-6228-4b18-a905-f7bbe39909cd"
      },
      "outputs": [
        {
          "output_type": "stream",
          "name": "stdout",
          "text": [
            "[[0.7749399  0.25026345 0.03630364 0.9297054  0.35074205]\n",
            " [0.27254105 0.83654404 0.27411092 0.42373142 0.10729797]\n",
            " [0.61012494 0.06834878 0.72791891 0.10995189 0.80576662]] Mean: 0.43855273186550625\n",
            "\n",
            " [[ 0.30654901 -0.21812744 -0.43208725  0.46131451 -0.11764884]\n",
            " [-0.11030403  0.45369896 -0.10873416  0.04088634 -0.27554711]\n",
            " [ 0.14570271 -0.39607345  0.26349668 -0.35447033  0.34134439]]\n"
          ]
        }
      ],
      "source": [
        "x = np.random.random((3,5))\n",
        "\n",
        "print(x, \"Mean:\", x.mean())\n",
        "\n",
        "y = x.mean(axis = 1, keepdims = True)\n",
        "\n",
        "z = x-y\n",
        "print(\"\\n\",z)"
      ]
    },
    {
      "cell_type": "markdown",
      "metadata": {
        "id": "TcvpJU_1041U"
      },
      "source": [
        "#### 59. How to sort an array by the nth column? (★★☆) \n",
        "(**hint**: argsort)"
      ]
    },
    {
      "cell_type": "code",
      "execution_count": null,
      "metadata": {
        "id": "QmN4X5WG041V",
        "colab": {
          "base_uri": "https://localhost:8080/"
        },
        "outputId": "caea1782-1f7c-4882-a781-8cc03a924ee2"
      },
      "outputs": [
        {
          "output_type": "stream",
          "name": "stdout",
          "text": [
            "[[1 3 1]\n",
            " [2 3 2]\n",
            " [2 2 1]]\n",
            "\n",
            " [[2 2 1]\n",
            " [1 3 1]\n",
            " [2 3 2]]\n"
          ]
        }
      ],
      "source": [
        "z = np.random.randint(1,5,(3,3))\n",
        "\n",
        "print(z)\n",
        "\n",
        "# print(np.argsort(z))\n",
        "\n",
        "print(\"\\n\",z[z[:,1].argsort()])"
      ]
    },
    {
      "cell_type": "markdown",
      "metadata": {
        "id": "dt25EOo6041V"
      },
      "source": [
        "#### 60. How to tell if a given 2D array has null columns? (★★☆) \n",
        "(**hint**: any, ~)"
      ]
    },
    {
      "cell_type": "code",
      "execution_count": null,
      "metadata": {
        "id": "ZbcEY1kX041V",
        "colab": {
          "base_uri": "https://localhost:8080/"
        },
        "outputId": "5e373eeb-90c3-47b2-d04d-2e87f0098f81"
      },
      "outputs": [
        {
          "output_type": "stream",
          "name": "stdout",
          "text": [
            "True\n"
          ]
        }
      ],
      "source": [
        "Z = np.random.randint(0,3,(3,10))\n",
        "print((~Z.any(axis=0)).any())"
      ]
    },
    {
      "cell_type": "markdown",
      "metadata": {
        "id": "3XTWbnS7041V"
      },
      "source": [
        "#### 61. Find the nearest value from a given value in an array (★★☆) \n",
        "(**hint**: np.abs, argmin, flat)"
      ]
    },
    {
      "cell_type": "code",
      "execution_count": null,
      "metadata": {
        "id": "SaWYOBuh041V",
        "colab": {
          "base_uri": "https://localhost:8080/"
        },
        "outputId": "fd3ed800-93af-49b9-e0ff-d157bcb1b79d"
      },
      "outputs": [
        {
          "output_type": "stream",
          "name": "stdout",
          "text": [
            "[1.15614603 3.88366203 4.03285836 1.59915514 1.55411184]\n",
            "\n",
            " 3.883662031710553\n"
          ]
        }
      ],
      "source": [
        "x = np.random.uniform(1,5,5)\n",
        "print(x)\n",
        "\n",
        "y = 2.75\n",
        "\n",
        "z = x.flat[np.abs(x - y).argmin()]\n",
        "print(\"\\n\",z)"
      ]
    },
    {
      "cell_type": "markdown",
      "metadata": {
        "id": "62aG90tp041V"
      },
      "source": [
        "#### 62. Considering two arrays with shape (1,3) and (3,1), how to compute their sum using an iterator? (★★☆) \n",
        "(**hint**: np.nditer)"
      ]
    },
    {
      "cell_type": "code",
      "execution_count": null,
      "metadata": {
        "id": "Syi1nz5I041V",
        "colab": {
          "base_uri": "https://localhost:8080/"
        },
        "outputId": "15ca6625-30a5-485d-ea46-fcbe71558dfe"
      },
      "outputs": [
        {
          "output_type": "stream",
          "name": "stdout",
          "text": [
            "[[0 1 2]]\n",
            "\n",
            " [[0]\n",
            " [1]\n",
            " [2]]\n",
            "\n",
            " [[0 1 2]\n",
            " [1 2 3]\n",
            " [2 3 4]]\n"
          ]
        }
      ],
      "source": [
        "import numpy as np\n",
        "\n",
        "x = np.arange(3).reshape(1,3)\n",
        "y = np.arange(3).reshape(3,1)\n",
        "\n",
        "print(x)\n",
        "print(\"\\n\",y)\n",
        "# numpy.nditer(op,  op_axes=None, itershape=None,)\n",
        "\n",
        "z = np.nditer([x,y, None])\n",
        "\n",
        "for a,b,c in z: \n",
        "  c[...] = a+b\n",
        "\n",
        "print(\"\\n\",z.operands[2])\n"
      ]
    },
    {
      "cell_type": "markdown",
      "metadata": {
        "id": "32DhKyXR041V"
      },
      "source": [
        "#### 63. Create an array class that has a name attribute (★★☆) \n",
        "(**hint**: class method)"
      ]
    },
    {
      "cell_type": "code",
      "execution_count": null,
      "metadata": {
        "id": "ZK8KH95u041V"
      },
      "outputs": [],
      "source": [
        ""
      ]
    },
    {
      "cell_type": "markdown",
      "metadata": {
        "id": "sriTimSC041V"
      },
      "source": [
        "#### 64. Consider a given vector, how to add 1 to each element indexed by a second vector (be careful with repeated indices)? (★★★) \n",
        "(**hint**: np.bincount | np.add.at)"
      ]
    },
    {
      "cell_type": "code",
      "execution_count": 6,
      "metadata": {
        "id": "-zWZEDM9041V",
        "colab": {
          "base_uri": "https://localhost:8080/",
          "height": 0
        },
        "outputId": "e7d7eca2-7380-4c50-fae1-28f24be93028"
      },
      "outputs": [
        {
          "output_type": "stream",
          "name": "stdout",
          "text": [
            "[3. 1. 6. 2. 2. 4. 3. 2. 3. 4.]\n"
          ]
        }
      ],
      "source": [
        "x = np.ones(10)\n",
        "z = np.random.randint(0,len(x),20)\n",
        "x += np.bincount(z, minlength=len(x))\n",
        "print(x)"
      ]
    },
    {
      "cell_type": "code",
      "source": [
        "np.add.at(x,z,1)\n",
        "print(z)"
      ],
      "metadata": {
        "colab": {
          "base_uri": "https://localhost:8080/",
          "height": 0
        },
        "id": "Q8Vk-2D_cCWs",
        "outputId": "e8da3927-7823-44ef-bec1-db9556df79cd"
      },
      "execution_count": 7,
      "outputs": [
        {
          "output_type": "stream",
          "name": "stdout",
          "text": [
            "[5 4 2 3 5 2 0 6 9 9 9 2 8 2 8 6 5 0 2 7]\n"
          ]
        }
      ]
    },
    {
      "cell_type": "markdown",
      "metadata": {
        "id": "cVRJGX1j041V"
      },
      "source": [
        "#### 65. How to accumulate elements of a vector (X) to an array (F) based on an index list (I)? (★★★) \n",
        "(**hint**: np.bincount)"
      ]
    },
    {
      "cell_type": "code",
      "execution_count": null,
      "metadata": {
        "id": "1uis46hh041W",
        "colab": {
          "base_uri": "https://localhost:8080/"
        },
        "outputId": "f475dc2d-119b-4a97-ce96-ef264c5ad7bd"
      },
      "outputs": [
        {
          "output_type": "stream",
          "name": "stdout",
          "text": [
            "[1 2 3 4 5]\n",
            "\n",
            " [5 6 1 7 7]\n",
            "\n",
            " [0. 3. 0. 0. 0. 1. 2. 9.]\n"
          ]
        }
      ],
      "source": [
        "x = np.arange(1,6)\n",
        "y = np.random.randint(1,9,5)\n",
        "\n",
        "print(x)\n",
        "print(\"\\n\",y)\n",
        "\n",
        "f = np.bincount(y,x)\n",
        "print(\"\\n\",f)"
      ]
    },
    {
      "cell_type": "markdown",
      "metadata": {
        "id": "GFk8M0E3041W"
      },
      "source": [
        "#### 66. Considering a (w,h,3) image of (dtype=ubyte), compute the number of unique colors (★★★) \n",
        "(**hint**: np.unique)"
      ]
    },
    {
      "cell_type": "code",
      "execution_count": 14,
      "metadata": {
        "id": "47RZ4M_H041W",
        "colab": {
          "base_uri": "https://localhost:8080/",
          "height": 0
        },
        "outputId": "9c867053-fd88-4822-9cfe-6aba3c053452"
      },
      "outputs": [
        {
          "output_type": "stream",
          "name": "stdout",
          "text": [
            "[0 1]\n"
          ]
        }
      ],
      "source": [
        "w,h = 16,16\n",
        "\n",
        "x = np.random.randint(0,2,(h,w,3)).astype(np.ubyte)\n",
        "\n",
        "y = x[...,0]*256*256 + x[...,1]*256 +x[...,2]\n",
        "\n",
        "n = len(np.unique(y))\n",
        "\n",
        "print(np.unique(x))"
      ]
    },
    {
      "cell_type": "markdown",
      "metadata": {
        "id": "vVcfx18_041W"
      },
      "source": [
        "#### 67. Considering a four dimensions array, how to get sum over the last two axis at once? (★★★) \n",
        "(**hint**: sum(axis=(-2,-1)))"
      ]
    },
    {
      "cell_type": "code",
      "execution_count": 13,
      "metadata": {
        "id": "GpjInP5M041W",
        "colab": {
          "base_uri": "https://localhost:8080/",
          "height": 0
        },
        "outputId": "fd688a57-822a-43cb-e5d9-04049e701e92"
      },
      "outputs": [
        {
          "output_type": "stream",
          "name": "stdout",
          "text": [
            "[[58 58 53 54]\n",
            " [61 37 52 44]\n",
            " [71 64 51 52]]\n",
            "\n",
            " [[58 58 53 54]\n",
            " [61 37 52 44]\n",
            " [71 64 51 52]]\n"
          ]
        }
      ],
      "source": [
        "x = np.random.randint(0,10,(3,4,3,4))\n",
        "\n",
        "sum = x.sum(axis=(-2,-1))\n",
        "print(sum)\n",
        "\n",
        "sum = x.reshape(x.shape[:-2] + (-1,)).sum(axis=-1)\n",
        "print(\"\\n\",sum)"
      ]
    },
    {
      "cell_type": "markdown",
      "metadata": {
        "id": "9tJyx0-U041W"
      },
      "source": [
        "#### 68. Considering a one-dimensional vector D, how to compute means of subsets of D using a vector S of same size describing subset  indices? (★★★) \n",
        "(**hint**: np.bincount)"
      ]
    },
    {
      "cell_type": "code",
      "execution_count": 15,
      "metadata": {
        "id": "06TAjEWP041W",
        "colab": {
          "base_uri": "https://localhost:8080/",
          "height": 0
        },
        "outputId": "322ae9bf-0575-425c-a95c-16cb02686031"
      },
      "outputs": [
        {
          "output_type": "stream",
          "name": "stdout",
          "text": [
            "[0.51879313 0.42443665 0.60957788 0.4741182  0.40319023 0.58064906\n",
            " 0.59151184 0.41868541 0.66154764 0.4753749 ]\n"
          ]
        }
      ],
      "source": [
        "x = np.random.uniform(0,1,100)\n",
        "y = np.random.randint(0,10,100)\n",
        "\n",
        "sum = np.bincount(y, weights=x)\n",
        "count = np.bincount(y)\n",
        "mean = sum / count\n",
        "\n",
        "print(mean)"
      ]
    },
    {
      "cell_type": "markdown",
      "metadata": {
        "id": "pc75phoG041W"
      },
      "source": [
        "#### 69. How to get the diagonal of a dot product? (★★★) \n",
        "(**hint**: np.diag)"
      ]
    },
    {
      "cell_type": "code",
      "execution_count": null,
      "metadata": {
        "id": "BLXcBGrZ041W",
        "colab": {
          "base_uri": "https://localhost:8080/"
        },
        "outputId": "a91b5ce3-3b4f-4850-cb89-4147450c6280"
      },
      "outputs": [
        {
          "output_type": "stream",
          "name": "stdout",
          "text": [
            "[[1 2 3]\n",
            " [4 5 6]\n",
            " [7 8 9]]\n",
            "\n",
            " [[7 8 9]\n",
            " [4 5 6]\n",
            " [1 2 3]]\n",
            "\n",
            " [[ 18  24  30]\n",
            " [ 54  69  84]\n",
            " [ 90 114 138]]\n",
            "\n",
            "Ouput: [ 18  69 138]\n"
          ]
        }
      ],
      "source": [
        "a = np.arange(1,10).reshape(3,3)\n",
        "print(a)\n",
        "\n",
        "b = a[::-1]\n",
        "print('\\n',b)\n",
        "\n",
        "m = a@b # or np.dot(a,b)\n",
        "print('\\n',m)\n",
        "\n",
        "x = np.diag(m)\n",
        "print('\\nOuput:',x)"
      ]
    },
    {
      "cell_type": "markdown",
      "metadata": {
        "id": "4W8Pqpj4041W"
      },
      "source": [
        "#### 70. Consider the vector \\[1, 2, 3, 4, 5\\], how to build a new vector with 3 consecutive zeros interleaved between each value? (★★★) \n",
        "(**hint**: array\\[::4\\])"
      ]
    },
    {
      "cell_type": "code",
      "execution_count": null,
      "metadata": {
        "id": "KYC6p8Lx041W",
        "colab": {
          "base_uri": "https://localhost:8080/"
        },
        "outputId": "4d4715a1-4f49-4569-a046-9d99f4b913dd"
      },
      "outputs": [
        {
          "output_type": "stream",
          "name": "stdout",
          "text": [
            "[1. 0. 0. 0. 2. 0. 0. 0. 3. 0. 0. 0. 4. 0. 0. 0. 5.]\n"
          ]
        }
      ],
      "source": [
        "import numpy as np\n",
        "\n",
        "x = np.array([1,2,3,4,5])\n",
        "y = 3\n",
        "z = np.zeros(len(x) + (len(x)-1)*(y))\n",
        "\n",
        "#---> [1,0,0,0,2,0,0,0,....5] ---> length = 1-0's-5 = 12 + elements 5 = 17\n",
        "\n",
        "z[::y+1] = x\n",
        "\n",
        "print(z)"
      ]
    },
    {
      "cell_type": "markdown",
      "metadata": {
        "id": "xF8kPivS041W"
      },
      "source": [
        "#### 71. Consider an array of dimension (5,5,3), how to mulitply it by an array with dimensions (5,5)? (★★★) \n",
        "(**hint**: array\\[:, :, None\\])"
      ]
    },
    {
      "cell_type": "code",
      "execution_count": null,
      "metadata": {
        "collapsed": true,
        "id": "Z-IMsfT5041X",
        "colab": {
          "base_uri": "https://localhost:8080/"
        },
        "outputId": "c9adaa76-09d4-45df-cf0c-839871ca557e"
      },
      "outputs": [
        {
          "output_type": "stream",
          "name": "stdout",
          "text": [
            "[[[2. 2. 2.]\n",
            "  [2. 2. 2.]\n",
            "  [2. 2. 2.]\n",
            "  [2. 2. 2.]\n",
            "  [2. 2. 2.]]\n",
            "\n",
            " [[2. 2. 2.]\n",
            "  [2. 2. 2.]\n",
            "  [2. 2. 2.]\n",
            "  [2. 2. 2.]\n",
            "  [2. 2. 2.]]\n",
            "\n",
            " [[2. 2. 2.]\n",
            "  [2. 2. 2.]\n",
            "  [2. 2. 2.]\n",
            "  [2. 2. 2.]\n",
            "  [2. 2. 2.]]\n",
            "\n",
            " [[2. 2. 2.]\n",
            "  [2. 2. 2.]\n",
            "  [2. 2. 2.]\n",
            "  [2. 2. 2.]\n",
            "  [2. 2. 2.]]\n",
            "\n",
            " [[2. 2. 2.]\n",
            "  [2. 2. 2.]\n",
            "  [2. 2. 2.]\n",
            "  [2. 2. 2.]\n",
            "  [2. 2. 2.]]]\n"
          ]
        }
      ],
      "source": [
        "a = np.ones((5,5,3))\n",
        "# print(a)\n",
        "b = 2*np.ones((5,5))\n",
        "# print(b)\n",
        "print(a * b[:,:,None])"
      ]
    },
    {
      "cell_type": "markdown",
      "metadata": {
        "id": "akm3AWil041X"
      },
      "source": [
        "#### 72. How to swap two rows of an array? (★★★) \n",
        "(**hint**: array\\[\\[\\]\\] = array\\[\\[\\]\\])"
      ]
    },
    {
      "cell_type": "code",
      "execution_count": null,
      "metadata": {
        "id": "uBGwkett041X",
        "colab": {
          "base_uri": "https://localhost:8080/"
        },
        "outputId": "8c6b0a47-9d15-4fdf-def4-e792aa544e2c"
      },
      "outputs": [
        {
          "output_type": "stream",
          "name": "stdout",
          "text": [
            "[[10 11 12 13 14]\n",
            " [ 5  6  7  8  9]\n",
            " [ 0  1  2  3  4]\n",
            " [15 16 17 18 19]\n",
            " [20 21 22 23 24]]\n"
          ]
        }
      ],
      "source": [
        "x = np.arange(25).reshape(5,5)\n",
        "\n",
        "x[[0,2]] = x[[2,0]]\n",
        "\n",
        "print(x)"
      ]
    },
    {
      "cell_type": "markdown",
      "metadata": {
        "id": "B0S_d63X041X"
      },
      "source": [
        "#### 73. Consider a set of 10 triplets describing 10 triangles (with shared vertices), find the set of unique line segments composing all the  triangles (★★★) \n",
        "(**hint**: repeat, np.roll, np.sort, view, np.unique)"
      ]
    },
    {
      "cell_type": "code",
      "execution_count": 16,
      "metadata": {
        "id": "IQhBHGqn041X",
        "colab": {
          "base_uri": "https://localhost:8080/",
          "height": 0
        },
        "outputId": "c1eba64e-7afa-4eba-9f16-2ac0c77772f2"
      },
      "outputs": [
        {
          "output_type": "stream",
          "name": "stdout",
          "text": [
            "[( 0, 53) ( 0, 72) ( 7, 65) ( 7, 67) ( 9, 22) ( 9, 91) (19, 60) (19, 83)\n",
            " (22, 91) (23, 75) (23, 84) (28, 95) (37, 50) (37, 59) (38, 67) (38, 69)\n",
            " (39, 64) (39, 65) (46, 76) (46, 94) (50, 59) (53, 72) (60, 83) (64, 65)\n",
            " (65, 67) (67, 69) (75, 84) (76, 94) (95, 95)]\n"
          ]
        }
      ],
      "source": [
        "a = np.random.randint(0,100,(10,3))\n",
        "\n",
        "x = np.roll(a.repeat(2,axis=1),-1,axis=1)\n",
        "x = x.reshape(len(x)*3,2)\n",
        "x = np.sort(x,axis=1)\n",
        "\n",
        "y = x.view( dtype=[('p0',x.dtype),('p1',x.dtype)] )\n",
        "y = np.unique(y)\n",
        "print(y)"
      ]
    },
    {
      "cell_type": "markdown",
      "metadata": {
        "id": "oUyJoVLl041X"
      },
      "source": [
        "#### 74. Given an array C that is a bincount, how to produce an array A such that np.bincount(A) == C? (★★★) \n",
        "(**hint**: np.repeat)"
      ]
    },
    {
      "cell_type": "code",
      "execution_count": 17,
      "metadata": {
        "id": "fDNda3p0041X",
        "colab": {
          "base_uri": "https://localhost:8080/",
          "height": 0
        },
        "outputId": "62eadc71-0c7c-4381-df02-eb47d8aa0ca5"
      },
      "outputs": [
        {
          "output_type": "stream",
          "name": "stdout",
          "text": [
            "[1 1 2 3 4 4 6]\n"
          ]
        }
      ],
      "source": [
        "a = np.bincount([1,1,2,3,4,4,6])\n",
        "b = np.repeat(np.arange(len(a)), a)\n",
        "print(b)"
      ]
    },
    {
      "cell_type": "markdown",
      "metadata": {
        "id": "sB74oRqE041X"
      },
      "source": [
        "#### 75. How to compute averages using a sliding window over an array? (★★★) \n",
        "(**hint**: np.cumsum)"
      ]
    },
    {
      "cell_type": "code",
      "execution_count": 18,
      "metadata": {
        "id": "FI28MUkt041X",
        "colab": {
          "base_uri": "https://localhost:8080/",
          "height": 0
        },
        "outputId": "c76eb80a-5115-42aa-efd7-7827dc65d42c"
      },
      "outputs": [
        {
          "output_type": "stream",
          "name": "stdout",
          "text": [
            "[ 1.  2.  3.  4.  5.  6.  7.  8.  9. 10. 11. 12. 13. 14. 15. 16. 17. 18.]\n"
          ]
        }
      ],
      "source": [
        "def x(a, n=3) :\n",
        "    y = np.cumsum(a, dtype=float)\n",
        "    y[n:] = y[n:] - y[:-n]\n",
        "    return y[n - 1:] / n\n",
        "z = np.arange(20)\n",
        "\n",
        "print(x(z, n=3))"
      ]
    },
    {
      "cell_type": "markdown",
      "metadata": {
        "id": "c83dkTQJ041X"
      },
      "source": [
        "#### 76. Consider a one-dimensional array Z, build a two-dimensional array whose first row is (Z\\[0\\],Z\\[1\\],Z\\[2\\]) and each subsequent row is  shifted by 1 (last row should be (Z\\[-3\\],Z\\[-2\\],Z\\[-1\\]) (★★★) \n",
        "(**hint**: from numpy.lib import stride_tricks)"
      ]
    },
    {
      "cell_type": "code",
      "execution_count": null,
      "metadata": {
        "id": "QGM-U1Um041Y"
      },
      "outputs": [],
      "source": [
        ""
      ]
    },
    {
      "cell_type": "markdown",
      "metadata": {
        "id": "LqVLh9pU041Y"
      },
      "source": [
        "#### 77. How to negate a boolean, or to change the sign of a float inplace? (★★★) \n",
        "(**hint**: np.logical_not, np.negative)"
      ]
    },
    {
      "cell_type": "code",
      "execution_count": 21,
      "metadata": {
        "id": "6Oj10pGy041Y",
        "colab": {
          "base_uri": "https://localhost:8080/",
          "height": 0
        },
        "outputId": "266ad688-f3a3-4f2b-9a2d-087c6bc5b552"
      },
      "outputs": [
        {
          "output_type": "stream",
          "name": "stdout",
          "text": [
            "[0 0 0 1 1 0 0 0 1 1 0 0 0 0 1 1 0 0 1 1 1 1 1 1 0 0 1 0 1 0 0 0 1 0 1 1 0\n",
            " 1 1 1 1 1 0 1 1 0 1 0 0 0 1 0 0 1 0 1 1 1 1 0 1 1 0 1 0 1 1 1 1 1 0 1 1 0\n",
            " 0 1 0 1 0 1 1 0 1 1 0 0 0 1 1 1 1 0 1 0 1 1 0 0 1 0]\n",
            "\n",
            "\n",
            " [ 0  0  0 -1 -1  0  0  0 -1 -1  0  0  0  0 -1 -1  0  0 -1 -1 -1 -1 -1 -1\n",
            "  0  0 -1  0 -1  0  0  0 -1  0 -1 -1  0 -1 -1 -1 -1 -1  0 -1 -1  0 -1  0\n",
            "  0  0 -1  0  0 -1  0 -1 -1 -1 -1  0 -1 -1  0 -1  0 -1 -1 -1 -1 -1  0 -1\n",
            " -1  0  0 -1  0 -1  0 -1 -1  0 -1 -1  0  0  0 -1 -1 -1 -1  0 -1  0 -1 -1\n",
            "  0  0 -1  0]\n"
          ]
        }
      ],
      "source": [
        "z = np.random.randint(0,2,100)\n",
        "print(np.logical_not(z, out=z))\n",
        "\n",
        "Z = np.random.uniform(-1.0,1.0,100)\n",
        "print('\\n\\n',np.negative(z, out=z))"
      ]
    },
    {
      "cell_type": "markdown",
      "metadata": {
        "id": "eJp5hC_y041Y"
      },
      "source": [
        "#### 78. Consider 2 sets of points P0,P1 describing lines (2d) and a point p, how to compute distance from p to each line i  (P0\\[i\\],P1\\[i\\])? (★★★)"
      ]
    },
    {
      "cell_type": "code",
      "execution_count": null,
      "metadata": {
        "id": "v_Hnuzkf041Y"
      },
      "outputs": [],
      "source": [
        ""
      ]
    },
    {
      "cell_type": "markdown",
      "metadata": {
        "id": "4E1mSAXf041Y"
      },
      "source": [
        "#### 79. Consider 2 sets of points P0,P1 describing lines (2d) and a set of points P, how to compute distance from each point j (P\\[j\\]) to each line i (P0\\[i\\],P1\\[i\\])? (★★★)"
      ]
    },
    {
      "cell_type": "code",
      "source": [
        ""
      ],
      "metadata": {
        "id": "3SdTTK3bpQFQ"
      },
      "execution_count": null,
      "outputs": []
    },
    {
      "cell_type": "markdown",
      "metadata": {
        "id": "WNtrw1Hd041Z"
      },
      "source": [
        "#### 80. Consider an arbitrary array, write a function that extract a subpart with a fixed shape and centered on a given element (pad with a `fill` value when necessary) (★★★) \n",
        "(**hint**: minimum, maximum)"
      ]
    },
    {
      "cell_type": "code",
      "source": [
        ""
      ],
      "metadata": {
        "id": "gxdDPqjfg9hD"
      },
      "execution_count": null,
      "outputs": []
    },
    {
      "cell_type": "markdown",
      "metadata": {
        "id": "5ghvQMRg041Z"
      },
      "source": [
        "#### 81. Consider an array Z = \\[1,2,3,4,5,6,7,8,9,10,11,12,13,14\\], how to generate an array R = \\[\\[1,2,3,4\\], \\[2,3,4,5\\], \\[3,4,5,6\\], ..., \\[11,12,13,14\\]\\]? (★★★) \n",
        "(**hint**: stride\\_tricks.as\\_strided)"
      ]
    },
    {
      "cell_type": "code",
      "execution_count": null,
      "metadata": {
        "id": "vAFZCMn7041Z",
        "colab": {
          "base_uri": "https://localhost:8080/"
        },
        "outputId": "ad1dcd26-7f22-4f15-e3e0-1f07591ff1d8"
      },
      "outputs": [
        {
          "output_type": "stream",
          "name": "stdout",
          "text": [
            "[[ 1  2  3  4]\n",
            " [ 2  3  4  5]\n",
            " [ 3  4  5  6]\n",
            " [ 4  5  6  7]\n",
            " [ 5  6  7  8]\n",
            " [ 6  7  8  9]\n",
            " [ 7  8  9 10]\n",
            " [ 8  9 10 11]\n",
            " [ 9 10 11 12]\n",
            " [10 11 12 13]\n",
            " [11 12 13 14]]\n"
          ]
        }
      ],
      "source": [
        "Z = np.arange(1,15,dtype=np.uint32)\n",
        "\n",
        "R = np.lib.stride_tricks.as_strided(Z,(11,4),(4,4))\n",
        "\n",
        "print(R)"
      ]
    },
    {
      "cell_type": "markdown",
      "metadata": {
        "id": "k4LUBJce041Z"
      },
      "source": [
        "#### 82. Compute a matrix rank (★★★) \n",
        "(**hint**: np.linalg.svd) (suggestion: np.linalg.svd)"
      ]
    },
    {
      "cell_type": "code",
      "execution_count": null,
      "metadata": {
        "id": "ZCKYQ_wC041Z",
        "colab": {
          "base_uri": "https://localhost:8080/"
        },
        "outputId": "219fffb1-d4ac-435e-ac4b-0353d727a47b"
      },
      "outputs": [
        {
          "output_type": "stream",
          "name": "stdout",
          "text": [
            "5\n"
          ]
        }
      ],
      "source": [
        "x = np.random.uniform(0,1,(5,5))\n",
        "\n",
        "a,b,c = np.linalg.svd(x)\n",
        "\n",
        "rank = np.sum(b > 1e-10)\n",
        "\n",
        "print(rank)"
      ]
    },
    {
      "cell_type": "markdown",
      "metadata": {
        "id": "yYbiNqG5041Z"
      },
      "source": [
        "#### 83. How to find the most frequent value in an array? \n",
        "(**hint**: np.bincount, argmax)"
      ]
    },
    {
      "cell_type": "code",
      "execution_count": null,
      "metadata": {
        "id": "ysMgaxS5041Z",
        "colab": {
          "base_uri": "https://localhost:8080/"
        },
        "outputId": "8535aad2-841f-409e-c7e4-01f3308e0f0c"
      },
      "outputs": [
        {
          "output_type": "stream",
          "name": "stdout",
          "text": [
            "1\n"
          ]
        }
      ],
      "source": [
        "x = np.array([1,2,3,1,5,3,2,7,4,9,1])\n",
        "\n",
        "print(np.bincount(x).argmax())"
      ]
    },
    {
      "cell_type": "markdown",
      "metadata": {
        "id": "z1bPFwyH041Z"
      },
      "source": [
        "#### 84. Extract all the contiguous 3x3 blocks from a random 10x10 matrix (★★★) \n",
        "(**hint**: stride\\_tricks.as\\_strided)"
      ]
    },
    {
      "cell_type": "code",
      "source": [
        "z = np.random.randint(0,5,(10,10))\n",
        "n = 3\n",
        "i = 1 + (z.shape[0]-3)\n",
        "j = 1 + (z.shape[1]-3)\n",
        "\n",
        "a = np.lib.stride_tricks.as_strided(Z, shape=(i, j, n, n), strides=z.strides + z.strides)\n",
        "print(a)"
      ],
      "metadata": {
        "id": "HQiZxDh2oNFI",
        "colab": {
          "base_uri": "https://localhost:8080/",
          "height": 0
        },
        "outputId": "6b094915-9a15-4346-8e52-5d896d59a69c"
      },
      "execution_count": 27,
      "outputs": [
        {
          "output_type": "stream",
          "name": "stdout",
          "text": [
            "[[[[ 2.37792781e-01  8.82735607e-01 -8.57000549e-01]\n",
            "   [ 7.90741088e-01  5.39990666e-01  4.66540422e-01]\n",
            "   [ 1.99027543e-01  2.39590676e-01  3.39460147e-01]]\n",
            "\n",
            "  [[ 8.82735607e-01 -8.57000549e-01 -5.83005749e-01]\n",
            "   [ 5.39990666e-01  4.66540422e-01 -6.59415500e-01]\n",
            "   [ 2.39590676e-01  3.39460147e-01 -6.86661454e-01]]\n",
            "\n",
            "  [[-8.57000549e-01 -5.83005749e-01 -4.49293274e-01]\n",
            "   [ 4.66540422e-01 -6.59415500e-01  5.69030244e-01]\n",
            "   [ 3.39460147e-01 -6.86661454e-01  3.10396091e-01]]\n",
            "\n",
            "  [[-5.83005749e-01 -4.49293274e-01 -8.44225574e-02]\n",
            "   [-6.59415500e-01  5.69030244e-01  4.48900530e-01]\n",
            "   [-6.86661454e-01  3.10396091e-01 -2.63337957e-01]]\n",
            "\n",
            "  [[-4.49293274e-01 -8.44225574e-02 -2.46795124e-01]\n",
            "   [ 5.69030244e-01  4.48900530e-01 -7.38971024e-02]\n",
            "   [ 3.10396091e-01 -2.63337957e-01 -4.64887639e-01]]\n",
            "\n",
            "  [[-8.44225574e-02 -2.46795124e-01  4.65983141e-01]\n",
            "   [ 4.48900530e-01 -7.38971024e-02  6.41430315e-01]\n",
            "   [-2.63337957e-01 -4.64887639e-01  2.88969412e-01]]\n",
            "\n",
            "  [[-2.46795124e-01  4.65983141e-01  8.86741782e-01]\n",
            "   [-7.38971024e-02  6.41430315e-01 -3.75505148e-02]\n",
            "   [-4.64887639e-01  2.88969412e-01 -4.78201957e-04]]\n",
            "\n",
            "  [[ 4.65983141e-01  8.86741782e-01  8.77478313e-01]\n",
            "   [ 6.41430315e-01 -3.75505148e-02 -9.07658642e-01]\n",
            "   [ 2.88969412e-01 -4.78201957e-04  5.92128557e-01]]]\n",
            "\n",
            "\n",
            " [[[ 7.90741088e-01  5.39990666e-01  4.66540422e-01]\n",
            "   [ 1.99027543e-01  2.39590676e-01  3.39460147e-01]\n",
            "   [ 1.84019001e-01  7.39276976e-01 -3.21027575e-01]]\n",
            "\n",
            "  [[ 5.39990666e-01  4.66540422e-01 -6.59415500e-01]\n",
            "   [ 2.39590676e-01  3.39460147e-01 -6.86661454e-01]\n",
            "   [ 7.39276976e-01 -3.21027575e-01  1.07618646e-01]]\n",
            "\n",
            "  [[ 4.66540422e-01 -6.59415500e-01  5.69030244e-01]\n",
            "   [ 3.39460147e-01 -6.86661454e-01  3.10396091e-01]\n",
            "   [-3.21027575e-01  1.07618646e-01  4.54842310e-01]]\n",
            "\n",
            "  [[-6.59415500e-01  5.69030244e-01  4.48900530e-01]\n",
            "   [-6.86661454e-01  3.10396091e-01 -2.63337957e-01]\n",
            "   [ 1.07618646e-01  4.54842310e-01 -8.86385818e-01]]\n",
            "\n",
            "  [[ 5.69030244e-01  4.48900530e-01 -7.38971024e-02]\n",
            "   [ 3.10396091e-01 -2.63337957e-01 -4.64887639e-01]\n",
            "   [ 4.54842310e-01 -8.86385818e-01  3.09560068e-01]]\n",
            "\n",
            "  [[ 4.48900530e-01 -7.38971024e-02  6.41430315e-01]\n",
            "   [-2.63337957e-01 -4.64887639e-01  2.88969412e-01]\n",
            "   [-8.86385818e-01  3.09560068e-01  1.71740155e-01]]\n",
            "\n",
            "  [[-7.38971024e-02  6.41430315e-01 -3.75505148e-02]\n",
            "   [-4.64887639e-01  2.88969412e-01 -4.78201957e-04]\n",
            "   [ 3.09560068e-01  1.71740155e-01  9.56553749e-01]]\n",
            "\n",
            "  [[ 6.41430315e-01 -3.75505148e-02 -9.07658642e-01]\n",
            "   [ 2.88969412e-01 -4.78201957e-04  5.92128557e-01]\n",
            "   [ 1.71740155e-01  9.56553749e-01  3.39550123e-01]]]\n",
            "\n",
            "\n",
            " [[[ 1.99027543e-01  2.39590676e-01  3.39460147e-01]\n",
            "   [ 1.84019001e-01  7.39276976e-01 -3.21027575e-01]\n",
            "   [-8.45232512e-01  6.98529079e-01  7.70975886e-01]]\n",
            "\n",
            "  [[ 2.39590676e-01  3.39460147e-01 -6.86661454e-01]\n",
            "   [ 7.39276976e-01 -3.21027575e-01  1.07618646e-01]\n",
            "   [ 6.98529079e-01  7.70975886e-01  1.89226287e-01]]\n",
            "\n",
            "  [[ 3.39460147e-01 -6.86661454e-01  3.10396091e-01]\n",
            "   [-3.21027575e-01  1.07618646e-01  4.54842310e-01]\n",
            "   [ 7.70975886e-01  1.89226287e-01  4.62094079e-01]]\n",
            "\n",
            "  [[-6.86661454e-01  3.10396091e-01 -2.63337957e-01]\n",
            "   [ 1.07618646e-01  4.54842310e-01 -8.86385818e-01]\n",
            "   [ 1.89226287e-01  4.62094079e-01 -7.71034462e-01]]\n",
            "\n",
            "  [[ 3.10396091e-01 -2.63337957e-01 -4.64887639e-01]\n",
            "   [ 4.54842310e-01 -8.86385818e-01  3.09560068e-01]\n",
            "   [ 4.62094079e-01 -7.71034462e-01 -8.18009079e-01]]\n",
            "\n",
            "  [[-2.63337957e-01 -4.64887639e-01  2.88969412e-01]\n",
            "   [-8.86385818e-01  3.09560068e-01  1.71740155e-01]\n",
            "   [-7.71034462e-01 -8.18009079e-01  5.43506159e-01]]\n",
            "\n",
            "  [[-4.64887639e-01  2.88969412e-01 -4.78201957e-04]\n",
            "   [ 3.09560068e-01  1.71740155e-01  9.56553749e-01]\n",
            "   [-8.18009079e-01  5.43506159e-01  2.49054237e-01]]\n",
            "\n",
            "  [[ 2.88969412e-01 -4.78201957e-04  5.92128557e-01]\n",
            "   [ 1.71740155e-01  9.56553749e-01  3.39550123e-01]\n",
            "   [ 5.43506159e-01  2.49054237e-01  6.02767501e-01]]]\n",
            "\n",
            "\n",
            " [[[ 1.84019001e-01  7.39276976e-01 -3.21027575e-01]\n",
            "   [-8.45232512e-01  6.98529079e-01  7.70975886e-01]\n",
            "   [-6.14367548e-01 -8.45275381e-01 -1.76864654e-01]]\n",
            "\n",
            "  [[ 7.39276976e-01 -3.21027575e-01  1.07618646e-01]\n",
            "   [ 6.98529079e-01  7.70975886e-01  1.89226287e-01]\n",
            "   [-8.45275381e-01 -1.76864654e-01  9.77049274e-01]]\n",
            "\n",
            "  [[-3.21027575e-01  1.07618646e-01  4.54842310e-01]\n",
            "   [ 7.70975886e-01  1.89226287e-01  4.62094079e-01]\n",
            "   [-1.76864654e-01  9.77049274e-01  7.50702379e-01]]\n",
            "\n",
            "  [[ 1.07618646e-01  4.54842310e-01 -8.86385818e-01]\n",
            "   [ 1.89226287e-01  4.62094079e-01 -7.71034462e-01]\n",
            "   [ 9.77049274e-01  7.50702379e-01  6.64818398e-01]]\n",
            "\n",
            "  [[ 4.54842310e-01 -8.86385818e-01  3.09560068e-01]\n",
            "   [ 4.62094079e-01 -7.71034462e-01 -8.18009079e-01]\n",
            "   [ 7.50702379e-01  6.64818398e-01 -9.69539253e-01]]\n",
            "\n",
            "  [[-8.86385818e-01  3.09560068e-01  1.71740155e-01]\n",
            "   [-7.71034462e-01 -8.18009079e-01  5.43506159e-01]\n",
            "   [ 6.64818398e-01 -9.69539253e-01  6.64340479e-01]]\n",
            "\n",
            "  [[ 3.09560068e-01  1.71740155e-01  9.56553749e-01]\n",
            "   [-8.18009079e-01  5.43506159e-01  2.49054237e-01]\n",
            "   [-9.69539253e-01  6.64340479e-01  1.49663964e-01]]\n",
            "\n",
            "  [[ 1.71740155e-01  9.56553749e-01  3.39550123e-01]\n",
            "   [ 5.43506159e-01  2.49054237e-01  6.02767501e-01]\n",
            "   [ 6.64340479e-01  1.49663964e-01 -3.87353929e-01]]]\n",
            "\n",
            "\n",
            " [[[-8.45232512e-01  6.98529079e-01  7.70975886e-01]\n",
            "   [-6.14367548e-01 -8.45275381e-01 -1.76864654e-01]\n",
            "   [-7.90705404e-01  9.61021733e-01 -2.44996200e-01]]\n",
            "\n",
            "  [[ 6.98529079e-01  7.70975886e-01  1.89226287e-01]\n",
            "   [-8.45275381e-01 -1.76864654e-01  9.77049274e-01]\n",
            "   [ 9.61021733e-01 -2.44996200e-01  4.08993733e-01]]\n",
            "\n",
            "  [[ 7.70975886e-01  1.89226287e-01  4.62094079e-01]\n",
            "   [-1.76864654e-01  9.77049274e-01  7.50702379e-01]\n",
            "   [-2.44996200e-01  4.08993733e-01  8.20379778e-01]]\n",
            "\n",
            "  [[ 1.89226287e-01  4.62094079e-01 -7.71034462e-01]\n",
            "   [ 9.77049274e-01  7.50702379e-01  6.64818398e-01]\n",
            "   [ 4.08993733e-01  8.20379778e-01 -5.38594216e-01]]\n",
            "\n",
            "  [[ 4.62094079e-01 -7.71034462e-01 -8.18009079e-01]\n",
            "   [ 7.50702379e-01  6.64818398e-01 -9.69539253e-01]\n",
            "   [ 8.20379778e-01 -5.38594216e-01 -6.34029521e-01]]\n",
            "\n",
            "  [[-7.71034462e-01 -8.18009079e-01  5.43506159e-01]\n",
            "   [ 6.64818398e-01 -9.69539253e-01  6.64340479e-01]\n",
            "   [-5.38594216e-01 -6.34029521e-01 -2.58488201e-01]]\n",
            "\n",
            "  [[-8.18009079e-01  5.43506159e-01  2.49054237e-01]\n",
            "   [-9.69539253e-01  6.64340479e-01  1.49663964e-01]\n",
            "   [-6.34029521e-01 -2.58488201e-01  7.22521015e-01]]\n",
            "\n",
            "  [[ 5.43506159e-01  2.49054237e-01  6.02767501e-01]\n",
            "   [ 6.64340479e-01  1.49663964e-01 -3.87353929e-01]\n",
            "   [-2.58488201e-01  7.22521015e-01 -2.08680160e-01]]]\n",
            "\n",
            "\n",
            " [[[-6.14367548e-01 -8.45275381e-01 -1.76864654e-01]\n",
            "   [-7.90705404e-01  9.61021733e-01 -2.44996200e-01]\n",
            "   [ 1.80728472e-01  9.16976698e-01 -9.78017586e-01]]\n",
            "\n",
            "  [[-8.45275381e-01 -1.76864654e-01  9.77049274e-01]\n",
            "   [ 9.61021733e-01 -2.44996200e-01  4.08993733e-01]\n",
            "   [ 9.16976698e-01 -9.78017586e-01  4.80262761e-02]]\n",
            "\n",
            "  [[-1.76864654e-01  9.77049274e-01  7.50702379e-01]\n",
            "   [-2.44996200e-01  4.08993733e-01  8.20379778e-01]\n",
            "   [-9.78017586e-01  4.80262761e-02 -8.26686759e-02]]\n",
            "\n",
            "  [[ 9.77049274e-01  7.50702379e-01  6.64818398e-01]\n",
            "   [ 4.08993733e-01  8.20379778e-01 -5.38594216e-01]\n",
            "   [ 4.80262761e-02 -8.26686759e-02  3.26119755e-01]]\n",
            "\n",
            "  [[ 7.50702379e-01  6.64818398e-01 -9.69539253e-01]\n",
            "   [ 8.20379778e-01 -5.38594216e-01 -6.34029521e-01]\n",
            "   [-8.26686759e-02  3.26119755e-01  3.16550258e-01]]\n",
            "\n",
            "  [[ 6.64818398e-01 -9.69539253e-01  6.64340479e-01]\n",
            "   [-5.38594216e-01 -6.34029521e-01 -2.58488201e-01]\n",
            "   [ 3.26119755e-01  3.16550258e-01 -7.28205025e-01]]\n",
            "\n",
            "  [[-9.69539253e-01  6.64340479e-01  1.49663964e-01]\n",
            "   [-6.34029521e-01 -2.58488201e-01  7.22521015e-01]\n",
            "   [ 3.16550258e-01 -7.28205025e-01 -7.01145062e-01]]\n",
            "\n",
            "  [[ 6.64340479e-01  1.49663964e-01 -3.87353929e-01]\n",
            "   [-2.58488201e-01  7.22521015e-01 -2.08680160e-01]\n",
            "   [-7.28205025e-01 -7.01145062e-01  5.45049688e-01]]]\n",
            "\n",
            "\n",
            " [[[-7.90705404e-01  9.61021733e-01 -2.44996200e-01]\n",
            "   [ 1.80728472e-01  9.16976698e-01 -9.78017586e-01]\n",
            "   [-6.45085640e-01 -4.53197878e-01  1.70934193e-01]]\n",
            "\n",
            "  [[ 9.61021733e-01 -2.44996200e-01  4.08993733e-01]\n",
            "   [ 9.16976698e-01 -9.78017586e-01  4.80262761e-02]\n",
            "   [-4.53197878e-01  1.70934193e-01  5.42998271e-01]]\n",
            "\n",
            "  [[-2.44996200e-01  4.08993733e-01  8.20379778e-01]\n",
            "   [-9.78017586e-01  4.80262761e-02 -8.26686759e-02]\n",
            "   [ 1.70934193e-01  5.42998271e-01 -4.44060796e-01]]\n",
            "\n",
            "  [[ 4.08993733e-01  8.20379778e-01 -5.38594216e-01]\n",
            "   [ 4.80262761e-02 -8.26686759e-02  3.26119755e-01]\n",
            "   [ 5.42998271e-01 -4.44060796e-01  3.20503503e-01]]\n",
            "\n",
            "  [[ 8.20379778e-01 -5.38594216e-01 -6.34029521e-01]\n",
            "   [-8.26686759e-02  3.26119755e-01  3.16550258e-01]\n",
            "   [-4.44060796e-01  3.20503503e-01 -4.94038678e-01]]\n",
            "\n",
            "  [[-5.38594216e-01 -6.34029521e-01 -2.58488201e-01]\n",
            "   [ 3.26119755e-01  3.16550258e-01 -7.28205025e-01]\n",
            "   [ 3.20503503e-01 -4.94038678e-01  3.96949144e-01]]\n",
            "\n",
            "  [[-6.34029521e-01 -2.58488201e-01  7.22521015e-01]\n",
            "   [ 3.16550258e-01 -7.28205025e-01 -7.01145062e-01]\n",
            "   [-4.94038678e-01  3.96949144e-01  9.26740298e-01]]\n",
            "\n",
            "  [[-2.58488201e-01  7.22521015e-01 -2.08680160e-01]\n",
            "   [-7.28205025e-01 -7.01145062e-01  5.45049688e-01]\n",
            "   [ 3.96949144e-01  9.26740298e-01 -7.49822251e-01]]]\n",
            "\n",
            "\n",
            " [[[ 1.80728472e-01  9.16976698e-01 -9.78017586e-01]\n",
            "   [-6.45085640e-01 -4.53197878e-01  1.70934193e-01]\n",
            "   [-8.75042560e-01 -1.19721759e-01 -4.66869215e-01]]\n",
            "\n",
            "  [[ 9.16976698e-01 -9.78017586e-01  4.80262761e-02]\n",
            "   [-4.53197878e-01  1.70934193e-01  5.42998271e-01]\n",
            "   [-1.19721759e-01 -4.66869215e-01  5.31488250e-01]]\n",
            "\n",
            "  [[-9.78017586e-01  4.80262761e-02 -8.26686759e-02]\n",
            "   [ 1.70934193e-01  5.42998271e-01 -4.44060796e-01]\n",
            "   [-4.66869215e-01  5.31488250e-01  9.62829606e-01]]\n",
            "\n",
            "  [[ 4.80262761e-02 -8.26686759e-02  3.26119755e-01]\n",
            "   [ 5.42998271e-01 -4.44060796e-01  3.20503503e-01]\n",
            "   [ 5.31488250e-01  9.62829606e-01 -1.67270031e-01]]\n",
            "\n",
            "  [[-8.26686759e-02  3.26119755e-01  3.16550258e-01]\n",
            "   [-4.44060796e-01  3.20503503e-01 -4.94038678e-01]\n",
            "   [ 9.62829606e-01 -1.67270031e-01 -7.79030219e-01]]\n",
            "\n",
            "  [[ 3.26119755e-01  3.16550258e-01 -7.28205025e-01]\n",
            "   [ 3.20503503e-01 -4.94038678e-01  3.96949144e-01]\n",
            "   [-1.67270031e-01 -7.79030219e-01  8.47191998e-01]]\n",
            "\n",
            "  [[ 3.16550258e-01 -7.28205025e-01 -7.01145062e-01]\n",
            "   [-4.94038678e-01  3.96949144e-01  9.26740298e-01]\n",
            "   [-7.79030219e-01  8.47191998e-01 -8.73862574e-02]]\n",
            "\n",
            "  [[-7.28205025e-01 -7.01145062e-01  5.45049688e-01]\n",
            "   [ 3.96949144e-01  9.26740298e-01 -7.49822251e-01]\n",
            "   [ 8.47191998e-01 -8.73862574e-02  9.17238852e-01]]]]\n"
          ]
        }
      ]
    },
    {
      "cell_type": "markdown",
      "metadata": {
        "id": "HnoRlz8A041Z"
      },
      "source": [
        "#### 85. Create a 2D array subclass such that Z\\[i,j\\] == Z\\[j,i\\] (★★★) \n",
        "(**hint**: class method)"
      ]
    },
    {
      "cell_type": "code",
      "execution_count": null,
      "metadata": {
        "id": "7e7hJA-6041a"
      },
      "outputs": [],
      "source": [
        ""
      ]
    },
    {
      "cell_type": "markdown",
      "metadata": {
        "id": "3tWhQRSw041a"
      },
      "source": [
        "#### 86. Consider a set of p matrices wich shape (n,n) and a set of p vectors with shape (n,1). How to compute the sum of of the p matrix products at once? (result has shape (n,1)) (★★★) \n",
        "(**hint**: np.tensordot)"
      ]
    },
    {
      "cell_type": "code",
      "execution_count": 28,
      "metadata": {
        "id": "O5onb75I041a",
        "colab": {
          "base_uri": "https://localhost:8080/",
          "height": 0
        },
        "outputId": "58b40d27-3b8d-447d-b209-e6c21959c680"
      },
      "outputs": [
        {
          "output_type": "stream",
          "name": "stdout",
          "text": [
            "[[200.]\n",
            " [200.]\n",
            " [200.]\n",
            " [200.]\n",
            " [200.]\n",
            " [200.]\n",
            " [200.]\n",
            " [200.]\n",
            " [200.]\n",
            " [200.]\n",
            " [200.]\n",
            " [200.]\n",
            " [200.]\n",
            " [200.]\n",
            " [200.]\n",
            " [200.]\n",
            " [200.]\n",
            " [200.]\n",
            " [200.]\n",
            " [200.]]\n"
          ]
        }
      ],
      "source": [
        "a,b = 10, 20\n",
        "\n",
        "x = np.ones((a,b,b))\n",
        "y = np.ones((a,b,1))\n",
        "\n",
        "z = np.tensordot(x, y, axes=[[0, 2], [0, 1]])\n",
        "print(z)"
      ]
    },
    {
      "cell_type": "markdown",
      "metadata": {
        "id": "VEWfE5kf041a"
      },
      "source": [
        "#### 87. Consider a 16x16 array, how to get the block-sum (block size is 4x4)? (★★★) \n",
        "(**hint**: np.add.reduceat)"
      ]
    },
    {
      "cell_type": "code",
      "source": [
        "import numpy as np\n",
        "\n",
        "x = np.ones((16,16))\n",
        "y = 4\n",
        "z = np.add.reduceat(np.add.reduceat(x, np.arange(0, x.shape[0], y), axis=0),\n",
        "                                       np.arange(0, x.shape[1], y), axis=1)\n",
        "print(z)"
      ],
      "metadata": {
        "colab": {
          "base_uri": "https://localhost:8080/",
          "height": 0
        },
        "id": "8kovfH8Ch2Pd",
        "outputId": "ae6f3669-833a-498b-ab40-e78113105629"
      },
      "execution_count": 1,
      "outputs": [
        {
          "output_type": "stream",
          "name": "stdout",
          "text": [
            "[[16. 16. 16. 16.]\n",
            " [16. 16. 16. 16.]\n",
            " [16. 16. 16. 16.]\n",
            " [16. 16. 16. 16.]]\n"
          ]
        }
      ]
    },
    {
      "cell_type": "markdown",
      "metadata": {
        "id": "65-UqzsW041a"
      },
      "source": [
        "#### 88. How to implement the Game of Life using numpy arrays? (★★★)"
      ]
    },
    {
      "cell_type": "code",
      "execution_count": null,
      "metadata": {
        "id": "-oR-hhj5041a"
      },
      "outputs": [],
      "source": [
        ""
      ]
    },
    {
      "cell_type": "markdown",
      "metadata": {
        "id": "5Vrwm_pi041a"
      },
      "source": [
        "#### 89. How to get the n largest values of an array (★★★) \n",
        "(**hint**: np.argsort | np.argpartition)"
      ]
    },
    {
      "cell_type": "code",
      "execution_count": null,
      "metadata": {
        "id": "WNeF58Fk041b",
        "colab": {
          "base_uri": "https://localhost:8080/"
        },
        "outputId": "a2eb1d72-1cd1-4dad-8acf-ab97b2481119"
      },
      "outputs": [
        {
          "output_type": "stream",
          "name": "stdout",
          "text": [
            "[ 91  92  93  94  95  96  97  98  99 100]\n",
            "[99 90 80 47 43 68 46 19  9 16 24]\n"
          ]
        }
      ],
      "source": [
        "x = np.arange(101)\n",
        "np.random.shuffle(x)\n",
        "n = 10\n",
        "\n",
        "print(x[np.argsort(x)[-n::]])\n",
        "\n",
        "print(x[np.argpartition(-x,n)[::n]])"
      ]
    },
    {
      "cell_type": "markdown",
      "metadata": {
        "id": "HsjgctL_041b"
      },
      "source": [
        "#### 90. Given an arbitrary number of vectors, build the cartesian product (every combinations of every item) (★★★) \n",
        "(**hint**: np.indices)"
      ]
    },
    {
      "cell_type": "code",
      "execution_count": null,
      "metadata": {
        "scrolled": true,
        "id": "PzIsNQwd041b"
      },
      "outputs": [],
      "source": [
        ""
      ]
    },
    {
      "cell_type": "markdown",
      "metadata": {
        "id": "teNqZQ5o041c"
      },
      "source": [
        "#### 91. How to create a record array from a regular array? (★★★) \n",
        "(**hint**: np.core.records.fromarrays)"
      ]
    },
    {
      "cell_type": "code",
      "execution_count": 3,
      "metadata": {
        "id": "LXyg_rKA041c",
        "colab": {
          "base_uri": "https://localhost:8080/",
          "height": 0
        },
        "outputId": "064dba81-231c-42f2-8e02-d1b1fddb9658"
      },
      "outputs": [
        {
          "output_type": "stream",
          "name": "stdout",
          "text": [
            "[(b'Hello', 10.,  2) (b'World', 21., 12)]\n"
          ]
        }
      ],
      "source": [
        "x = np.array([(\"Hello\", 10, 2),\n",
        "              (\"World\", 21, 12)])\n",
        "y = np.core.records.fromarrays(x.T,\n",
        "                               names='col1, col2, col3',\n",
        "                               formats = 'S8, f8, i8')\n",
        "print(y)"
      ]
    },
    {
      "cell_type": "markdown",
      "metadata": {
        "id": "8zlj-TuM041c"
      },
      "source": [
        "#### 92. Consider a large vector Z, compute Z to the power of 3 using 3 different methods (★★★) \n",
        "(**hint**: np.power, \\*, np.einsum)"
      ]
    },
    {
      "cell_type": "code",
      "execution_count": 13,
      "metadata": {
        "id": "mPJhtagO041c",
        "colab": {
          "base_uri": "https://localhost:8080/",
          "height": 0
        },
        "outputId": "bc114e55-d152-420c-b372-8e695ce8554e"
      },
      "outputs": [
        {
          "output_type": "stream",
          "name": "stdout",
          "text": [
            "287496\n",
            "287496\n"
          ]
        }
      ],
      "source": [
        "x = np.random.randint(1e2)\n",
        "\n",
        "print(np.power(x,3))\n",
        "\n",
        "print(x*x*x)"
      ]
    },
    {
      "cell_type": "markdown",
      "metadata": {
        "id": "7ZyyYKpw041c"
      },
      "source": [
        "#### 93. Consider two arrays A and B of shape (8,3) and (2,2). How to find rows of A that contain elements of each row of B regardless of the order of the elements in B? (★★★) \n",
        "(**hint**: np.where)"
      ]
    },
    {
      "cell_type": "code",
      "execution_count": 28,
      "metadata": {
        "id": "qRzN-bUQ041c",
        "colab": {
          "base_uri": "https://localhost:8080/",
          "height": 0
        },
        "outputId": "61838a5c-155b-4df2-881b-727b0100387c"
      },
      "outputs": [
        {
          "output_type": "stream",
          "name": "stdout",
          "text": [
            "[0 1 3 4 6 7]\n"
          ]
        }
      ],
      "source": [
        "a = np.random.randint(0,5,(8,3))\n",
        "b = np.random.randint(0,5,(2,2))\n",
        "\n",
        "z = (a[..., np.newaxis, np.newaxis] == b)\n",
        "out = np.where(z.any((3,1)).all(1))[0]\n",
        "print(out)"
      ]
    },
    {
      "cell_type": "markdown",
      "metadata": {
        "id": "VgNT3iUw041c"
      },
      "source": [
        "#### 94. Considering a 10x3 matrix, extract rows with unequal values (e.g. \\[2,2,3\\]) (★★★)"
      ]
    },
    {
      "cell_type": "code",
      "execution_count": null,
      "metadata": {
        "id": "awln7oJa041c"
      },
      "outputs": [],
      "source": [
        ""
      ]
    },
    {
      "cell_type": "markdown",
      "metadata": {
        "id": "NlnJCeLS041c"
      },
      "source": [
        "#### 95. Convert a vector of ints into a matrix binary representation (★★★) \n",
        "(**hint**: np.unpackbits)"
      ]
    },
    {
      "cell_type": "code",
      "execution_count": null,
      "metadata": {
        "id": "JoAWjFz0041d"
      },
      "outputs": [],
      "source": [
        ""
      ]
    },
    {
      "cell_type": "markdown",
      "metadata": {
        "id": "4ciH_Rb7041d"
      },
      "source": [
        "#### 96. Given a two dimensional array, how to extract unique rows? (★★★) \n",
        "(**hint**: np.ascontiguousarray)"
      ]
    },
    {
      "cell_type": "code",
      "execution_count": 26,
      "metadata": {
        "id": "sTtgM405041d",
        "colab": {
          "base_uri": "https://localhost:8080/",
          "height": 0
        },
        "outputId": "6a4a465d-0507-441e-a88b-db7a9e447bbe"
      },
      "outputs": [
        {
          "output_type": "stream",
          "name": "stdout",
          "text": [
            "[[0 0 1]\n",
            " [0 1 1]\n",
            " [1 1 0]]\n"
          ]
        }
      ],
      "source": [
        "x = np.random.randint(0,2,(6,3))\n",
        "y = np.ascontiguousarray(x).view(np.dtype((np.void, x.dtype.itemsize * x.shape[1])))\n",
        "Z, z = np.unique(y, return_index=True)\n",
        "\n",
        "a = x[z]\n",
        "print(a)"
      ]
    },
    {
      "cell_type": "markdown",
      "metadata": {
        "id": "YndpGBfj041d"
      },
      "source": [
        "#### 97. Considering 2 vectors A & B, write the einsum equivalent of inner, outer, sum, and mul function (★★★) \n",
        "(**hint**: np.einsum)"
      ]
    },
    {
      "cell_type": "code",
      "execution_count": 20,
      "metadata": {
        "id": "ktZujaE7041d",
        "colab": {
          "base_uri": "https://localhost:8080/",
          "height": 0
        },
        "outputId": "af3cc8c5-965d-488e-dbff-85abb7f3dd7b"
      },
      "outputs": [
        {
          "output_type": "stream",
          "name": "stdout",
          "text": [
            "9\n",
            "[4 2 6 2 2]\n",
            "16\n",
            "[[4 4 4 2 4]\n",
            " [2 2 2 1 2]\n",
            " [6 6 6 3 6]\n",
            " [4 4 4 2 4]\n",
            " [2 2 2 1 2]]\n"
          ]
        }
      ],
      "source": [
        "a = np.random.randint(1,5,5)\n",
        "b = np.random.randint(1,5,5)\n",
        "\n",
        "print(np.einsum('i->', a))      \n",
        "print(np.einsum('i,i->i', a, b))\n",
        "print(np.einsum('i,i', a, b))    \n",
        "print(np.einsum('i,j->ij', a, b))"
      ]
    },
    {
      "cell_type": "markdown",
      "metadata": {
        "id": "FxIrr_li041d"
      },
      "source": [
        "#### 98. Considering a path described by two vectors (X,Y), how to sample it using equidistant samples (★★★)? \n",
        "(**hint**: np.cumsum, np.interp)"
      ]
    },
    {
      "cell_type": "code",
      "source": [
        ""
      ],
      "metadata": {
        "id": "uABcrUlWlmkt"
      },
      "execution_count": null,
      "outputs": []
    },
    {
      "cell_type": "markdown",
      "metadata": {
        "id": "IqTlnfWv041d"
      },
      "source": [
        "#### 99. Given an integer n and a 2D array X, select from X the rows which can be interpreted as draws from a multinomial distribution with n degrees, i.e., the rows which only contain integers and which sum to n. (★★★) \n",
        "(**hint**: np.logical\\_and.reduce, np.mod)"
      ]
    },
    {
      "cell_type": "code",
      "execution_count": 23,
      "metadata": {
        "id": "oF3-tezE041d",
        "colab": {
          "base_uri": "https://localhost:8080/",
          "height": 0
        },
        "outputId": "f707c4ca-77e6-4a3c-c94b-6f81693f9cd2"
      },
      "outputs": [
        {
          "output_type": "stream",
          "name": "stdout",
          "text": [
            "[[2. 0. 1. 1.]]\n"
          ]
        }
      ],
      "source": [
        "x = np.asarray([[1.0, 0.0, 3.0, 8.0],\n",
        "                [2.0, 0.0, 1.0, 1.0],\n",
        "                [1.5, 2.5, 1.0, 0.0]])\n",
        "n = 4\n",
        "a = np.logical_and.reduce(np.mod(x, 1) == 0, axis=-1)\n",
        "a &= (x.sum(axis=-1) == n)\n",
        "print(x[a])"
      ]
    },
    {
      "cell_type": "markdown",
      "metadata": {
        "id": "zGXVBGyX041d"
      },
      "source": [
        "#### 100. Compute bootstrapped 95% confidence intervals for the mean of a 1D array X (i.e., resample the elements of an array with replacement N times, compute the mean of each sample, and then compute percentiles over the means). (★★★) \n",
        "(**hint**: np.percentile)"
      ]
    },
    {
      "cell_type": "code",
      "execution_count": 24,
      "metadata": {
        "id": "Xw0jDM_4041e",
        "colab": {
          "base_uri": "https://localhost:8080/",
          "height": 0
        },
        "outputId": "e3f0fa34-6031-421a-e9fb-ed56b363b1fb"
      },
      "outputs": [
        {
          "output_type": "stream",
          "name": "stdout",
          "text": [
            "[-0.17490479  0.15409007]\n"
          ]
        }
      ],
      "source": [
        "x = np.random.randn(100) \n",
        "n = 1000 \n",
        "z = np.random.randint(0, x.size, (n, x.size))\n",
        "\n",
        "m = x[z].mean(axis=1)\n",
        "a = np.percentile(m, [2.5, 97.5])\n",
        "\n",
        "print(a)"
      ]
    }
  ],
  "metadata": {
    "kernelspec": {
      "display_name": "Python 3",
      "language": "python",
      "name": "python3"
    },
    "language_info": {
      "codemirror_mode": {
        "name": "ipython",
        "version": 3
      },
      "file_extension": ".py",
      "mimetype": "text/x-python",
      "name": "python",
      "nbconvert_exporter": "python",
      "pygments_lexer": "ipython3",
      "version": "3.8.3"
    },
    "colab": {
      "name": "Numpy_tasks.ipynb",
      "provenance": [],
      "collapsed_sections": [
        "eJp5hC_y041Y",
        "NlnJCeLS041c"
      ],
      "include_colab_link": true
    }
  },
  "nbformat": 4,
  "nbformat_minor": 0
}